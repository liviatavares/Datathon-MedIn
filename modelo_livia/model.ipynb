{
 "cells": [
  {
   "cell_type": "markdown",
   "id": "210ed7e4",
   "metadata": {},
   "source": [
    "## 1. Pré-processamento, análise de dados e limpeza dos dados"
   ]
  },
  {
   "cell_type": "code",
   "execution_count": 1,
   "id": "051873ed",
   "metadata": {},
   "outputs": [],
   "source": [
    "import pandas as pd\n",
    "import numpy as np\n",
    "import pickle\n",
    "import matplotlib.pyplot as plt\n",
    "import seaborn as sns\n",
    "from sklearn.ensemble import RandomForestClassifier, GradientBoostingClassifier\n",
    "from sklearn.model_selection import train_test_split\n",
    "from sklearn.metrics import accuracy_score, classification_report, precision_score, recall_score, confusion_matrix, f1_score\n",
    "from xgboost import XGBClassifier\n",
    "from sklearn.linear_model import LogisticRegression\n",
    "from sklearn.tree import DecisionTreeClassifier\n",
    "from sklearn.preprocessing import StandardScaler\n",
    "from sklearn.neighbors import KNeighborsClassifier\n",
    "from sklearn.model_selection import GridSearchCV\n",
    "from sklearn.svm import SVC\n",
    "from sklearn.neural_network import MLPClassifier\n",
    "from sklearn.pipeline import make_pipeline"
   ]
  },
  {
   "cell_type": "code",
   "execution_count": 2,
   "id": "f8942ce8",
   "metadata": {},
   "outputs": [
    {
     "data": {
      "text/html": [
       "<div>\n",
       "<style scoped>\n",
       "    .dataframe tbody tr th:only-of-type {\n",
       "        vertical-align: middle;\n",
       "    }\n",
       "\n",
       "    .dataframe tbody tr th {\n",
       "        vertical-align: top;\n",
       "    }\n",
       "\n",
       "    .dataframe thead th {\n",
       "        text-align: right;\n",
       "    }\n",
       "</style>\n",
       "<table border=\"1\" class=\"dataframe\">\n",
       "  <thead>\n",
       "    <tr style=\"text-align: right;\">\n",
       "      <th></th>\n",
       "      <th>id</th>\n",
       "      <th>age</th>\n",
       "      <th>sex</th>\n",
       "      <th>cp</th>\n",
       "      <th>trestbps</th>\n",
       "      <th>chol</th>\n",
       "      <th>fbs</th>\n",
       "      <th>restecg</th>\n",
       "      <th>thalach</th>\n",
       "      <th>exang</th>\n",
       "      <th>oldpeak</th>\n",
       "      <th>slope</th>\n",
       "      <th>ca</th>\n",
       "      <th>thal</th>\n",
       "      <th>target</th>\n",
       "    </tr>\n",
       "  </thead>\n",
       "  <tbody>\n",
       "    <tr>\n",
       "      <th>0</th>\n",
       "      <td>123</td>\n",
       "      <td>60</td>\n",
       "      <td>1</td>\n",
       "      <td>0</td>\n",
       "      <td>145</td>\n",
       "      <td>282</td>\n",
       "      <td>0</td>\n",
       "      <td>0</td>\n",
       "      <td>142</td>\n",
       "      <td>1</td>\n",
       "      <td>2.8</td>\n",
       "      <td>1</td>\n",
       "      <td>2</td>\n",
       "      <td>3</td>\n",
       "      <td>0</td>\n",
       "    </tr>\n",
       "    <tr>\n",
       "      <th>1</th>\n",
       "      <td>806</td>\n",
       "      <td>53</td>\n",
       "      <td>1</td>\n",
       "      <td>0</td>\n",
       "      <td>142</td>\n",
       "      <td>226</td>\n",
       "      <td>0</td>\n",
       "      <td>0</td>\n",
       "      <td>111</td>\n",
       "      <td>1</td>\n",
       "      <td>0.0</td>\n",
       "      <td>2</td>\n",
       "      <td>0</td>\n",
       "      <td>3</td>\n",
       "      <td>1</td>\n",
       "    </tr>\n",
       "    <tr>\n",
       "      <th>2</th>\n",
       "      <td>667</td>\n",
       "      <td>35</td>\n",
       "      <td>1</td>\n",
       "      <td>1</td>\n",
       "      <td>122</td>\n",
       "      <td>192</td>\n",
       "      <td>0</td>\n",
       "      <td>1</td>\n",
       "      <td>174</td>\n",
       "      <td>0</td>\n",
       "      <td>0.0</td>\n",
       "      <td>2</td>\n",
       "      <td>0</td>\n",
       "      <td>2</td>\n",
       "      <td>1</td>\n",
       "    </tr>\n",
       "    <tr>\n",
       "      <th>3</th>\n",
       "      <td>282</td>\n",
       "      <td>35</td>\n",
       "      <td>1</td>\n",
       "      <td>1</td>\n",
       "      <td>122</td>\n",
       "      <td>192</td>\n",
       "      <td>0</td>\n",
       "      <td>1</td>\n",
       "      <td>174</td>\n",
       "      <td>0</td>\n",
       "      <td>0.0</td>\n",
       "      <td>2</td>\n",
       "      <td>0</td>\n",
       "      <td>2</td>\n",
       "      <td>1</td>\n",
       "    </tr>\n",
       "    <tr>\n",
       "      <th>4</th>\n",
       "      <td>278</td>\n",
       "      <td>44</td>\n",
       "      <td>1</td>\n",
       "      <td>1</td>\n",
       "      <td>130</td>\n",
       "      <td>219</td>\n",
       "      <td>0</td>\n",
       "      <td>0</td>\n",
       "      <td>188</td>\n",
       "      <td>0</td>\n",
       "      <td>0.0</td>\n",
       "      <td>2</td>\n",
       "      <td>0</td>\n",
       "      <td>2</td>\n",
       "      <td>1</td>\n",
       "    </tr>\n",
       "  </tbody>\n",
       "</table>\n",
       "</div>"
      ],
      "text/plain": [
       "    id  age  sex  cp  trestbps  chol  fbs  restecg  thalach  exang  oldpeak  \\\n",
       "0  123   60    1   0       145   282    0        0      142      1      2.8   \n",
       "1  806   53    1   0       142   226    0        0      111      1      0.0   \n",
       "2  667   35    1   1       122   192    0        1      174      0      0.0   \n",
       "3  282   35    1   1       122   192    0        1      174      0      0.0   \n",
       "4  278   44    1   1       130   219    0        0      188      0      0.0   \n",
       "\n",
       "   slope  ca  thal  target  \n",
       "0      1   2     3       0  \n",
       "1      2   0     3       1  \n",
       "2      2   0     2       1  \n",
       "3      2   0     2       1  \n",
       "4      2   0     2       1  "
      ]
     },
     "execution_count": 2,
     "metadata": {},
     "output_type": "execute_result"
    }
   ],
   "source": [
    "df = pd.read_csv('train.csv')\n",
    "df.head()"
   ]
  },
  {
   "cell_type": "markdown",
   "id": "882466d8",
   "metadata": {},
   "source": [
    "### 1.1. Disposições iniciais (pesquisa sobre os dados)\n",
    "\n",
    "1. a pressão arterial normal em repouso é geralmente considerada normal abaixo de 120/80 mmHg\n",
    "\n",
    "2. Os valores ideais de colesterol sérico são: colesterol total abaixo de 200 mg/dL, LDL (\"ruim\") abaixo de 130 mg/dL (com alvos mais baixos para riscos elevados) e HDL (\"bom\") acima de 40 mg/dL para homens e 50 mg/dL para mulheres.\n",
    "\n",
    "3. Os valores normais de glicemia em jejum, para a maioria dos adultos, situam-se entre 70 mg/dL e 99 mg/dL\n",
    "\n",
    "4. Valores normais de tálio no corpo não são bem definidos, mas em níveis sanguíneos, concentrações superiores a 100 µg/L são consideradas tóxicas, e superiores a 300 µg/L indicam ingestão grave.\n",
    "\n",
    "5. A frequência cardíaca máxima (FCM) normal pode ser estimada pela fórmula 220 menos a idade da pessoa. \n",
    "\n",
    "6. O segmento ST é uma parte do padrão de onda do ECG que representa o período em que os ventrículos do coração estão eletricamente neutros após a despolarização e antes da repolarização. "
   ]
  },
  {
   "cell_type": "markdown",
   "id": "99177e15",
   "metadata": {},
   "source": [
    "### 1.2. Legenda para os dados\n",
    "\n",
    "id — identificador único para cada registro de paciente.\n",
    "\n",
    "age — idade do paciente em anos.\n",
    "\n",
    "sex — sexo do paciente (0 = feminino, 1 = masculino).\n",
    "\n",
    "cp — tipo de dor no peito (categórica: 0–3).\n",
    "\n",
    "trestbps — pressão arterial em repouso (mm Hg).\n",
    "\n",
    "chol — colesterol sérico (mg/dl).\n",
    "\n",
    "fbs — glicemia de jejum > 120 mg/dl (1 = verdadeiro, 0 = falso).\n",
    "\n",
    "restecg — resultados do eletrocardiograma em repouso (0–2).\n",
    "\n",
    "thalach — frequência cardíaca máxima atingida.\n",
    "\n",
    "exang — angina induzida por exercício (1 = sim, 0 = não).\n",
    "\n",
    "oldpeak — depressão do segmento ST induzida por exercício em relação ao repouso.\n",
    "\n",
    "slope — inclinação do segmento ST durante o esforço (0–2).\n",
    "\n",
    "ca — número de vasos principais coloridos por fluoroscopia (0–3).\n",
    "\n",
    "thal — resultado do exame de tálio (3 = normal, 6 = defeito fixo, 7 = defeito reversível).\n",
    "\n",
    "target — variável alvo (0 = sem doença cardíaca, 1 = com doença cardíaca)."
   ]
  },
  {
   "cell_type": "markdown",
   "id": "8418522a",
   "metadata": {},
   "source": [
    "### 1.3. Limpeza dos dados"
   ]
  },
  {
   "cell_type": "code",
   "execution_count": 3,
   "id": "ce45e915",
   "metadata": {},
   "outputs": [
    {
     "data": {
      "text/plain": [
       "Series([], Name: count, dtype: int64)"
      ]
     },
     "execution_count": 3,
     "metadata": {},
     "output_type": "execute_result"
    }
   ],
   "source": [
    "df[df.isna()].value_counts()"
   ]
  },
  {
   "cell_type": "markdown",
   "id": "95ec13c7",
   "metadata": {},
   "source": [
    "Não há valores null ou NaN."
   ]
  },
  {
   "cell_type": "code",
   "execution_count": 4,
   "id": "86ff6acf",
   "metadata": {},
   "outputs": [
    {
     "name": "stdout",
     "output_type": "stream",
     "text": [
      "<class 'pandas.core.frame.DataFrame'>\n",
      "RangeIndex: 717 entries, 0 to 716\n",
      "Data columns (total 15 columns):\n",
      " #   Column    Non-Null Count  Dtype  \n",
      "---  ------    --------------  -----  \n",
      " 0   id        717 non-null    int64  \n",
      " 1   age       717 non-null    int64  \n",
      " 2   sex       717 non-null    int64  \n",
      " 3   cp        717 non-null    int64  \n",
      " 4   trestbps  717 non-null    int64  \n",
      " 5   chol      717 non-null    int64  \n",
      " 6   fbs       717 non-null    int64  \n",
      " 7   restecg   717 non-null    int64  \n",
      " 8   thalach   717 non-null    int64  \n",
      " 9   exang     717 non-null    int64  \n",
      " 10  oldpeak   717 non-null    float64\n",
      " 11  slope     717 non-null    int64  \n",
      " 12  ca        717 non-null    int64  \n",
      " 13  thal      717 non-null    int64  \n",
      " 14  target    717 non-null    int64  \n",
      "dtypes: float64(1), int64(14)\n",
      "memory usage: 84.2 KB\n"
     ]
    }
   ],
   "source": [
    "df.info()"
   ]
  },
  {
   "cell_type": "markdown",
   "id": "d898bedd",
   "metadata": {},
   "source": [
    "Todas as colunas já estão com o tipo de dado adequado."
   ]
  },
  {
   "cell_type": "code",
   "execution_count": 5,
   "id": "4dbc3c0f",
   "metadata": {},
   "outputs": [
    {
     "data": {
      "text/html": [
       "<div>\n",
       "<style scoped>\n",
       "    .dataframe tbody tr th:only-of-type {\n",
       "        vertical-align: middle;\n",
       "    }\n",
       "\n",
       "    .dataframe tbody tr th {\n",
       "        vertical-align: top;\n",
       "    }\n",
       "\n",
       "    .dataframe thead th {\n",
       "        text-align: right;\n",
       "    }\n",
       "</style>\n",
       "<table border=\"1\" class=\"dataframe\">\n",
       "  <thead>\n",
       "    <tr style=\"text-align: right;\">\n",
       "      <th></th>\n",
       "      <th>id</th>\n",
       "      <th>age</th>\n",
       "      <th>sex</th>\n",
       "      <th>cp</th>\n",
       "      <th>trestbps</th>\n",
       "      <th>chol</th>\n",
       "      <th>fbs</th>\n",
       "      <th>restecg</th>\n",
       "      <th>thalach</th>\n",
       "      <th>exang</th>\n",
       "      <th>oldpeak</th>\n",
       "      <th>slope</th>\n",
       "      <th>ca</th>\n",
       "      <th>thal</th>\n",
       "      <th>target</th>\n",
       "    </tr>\n",
       "  </thead>\n",
       "  <tbody>\n",
       "  </tbody>\n",
       "</table>\n",
       "</div>"
      ],
      "text/plain": [
       "Empty DataFrame\n",
       "Columns: [id, age, sex, cp, trestbps, chol, fbs, restecg, thalach, exang, oldpeak, slope, ca, thal, target]\n",
       "Index: []"
      ]
     },
     "execution_count": 5,
     "metadata": {},
     "output_type": "execute_result"
    }
   ],
   "source": [
    "df[df['thal'] == 7] | df[df['thal'] == 6]"
   ]
  },
  {
   "cell_type": "code",
   "execution_count": 6,
   "id": "7e326b42",
   "metadata": {},
   "outputs": [
    {
     "data": {
      "text/html": [
       "<div>\n",
       "<style scoped>\n",
       "    .dataframe tbody tr th:only-of-type {\n",
       "        vertical-align: middle;\n",
       "    }\n",
       "\n",
       "    .dataframe tbody tr th {\n",
       "        vertical-align: top;\n",
       "    }\n",
       "\n",
       "    .dataframe thead th {\n",
       "        text-align: right;\n",
       "    }\n",
       "</style>\n",
       "<table border=\"1\" class=\"dataframe\">\n",
       "  <thead>\n",
       "    <tr style=\"text-align: right;\">\n",
       "      <th></th>\n",
       "      <th>id</th>\n",
       "      <th>age</th>\n",
       "      <th>sex</th>\n",
       "      <th>cp</th>\n",
       "      <th>trestbps</th>\n",
       "      <th>chol</th>\n",
       "      <th>fbs</th>\n",
       "      <th>restecg</th>\n",
       "      <th>thalach</th>\n",
       "      <th>exang</th>\n",
       "      <th>oldpeak</th>\n",
       "      <th>slope</th>\n",
       "      <th>ca</th>\n",
       "      <th>thal</th>\n",
       "      <th>target</th>\n",
       "    </tr>\n",
       "  </thead>\n",
       "  <tbody>\n",
       "    <tr>\n",
       "      <th>2</th>\n",
       "      <td>667</td>\n",
       "      <td>35</td>\n",
       "      <td>1</td>\n",
       "      <td>1</td>\n",
       "      <td>122</td>\n",
       "      <td>192</td>\n",
       "      <td>0</td>\n",
       "      <td>1</td>\n",
       "      <td>174</td>\n",
       "      <td>0</td>\n",
       "      <td>0.0</td>\n",
       "      <td>2</td>\n",
       "      <td>0</td>\n",
       "      <td>2</td>\n",
       "      <td>1</td>\n",
       "    </tr>\n",
       "    <tr>\n",
       "      <th>3</th>\n",
       "      <td>282</td>\n",
       "      <td>35</td>\n",
       "      <td>1</td>\n",
       "      <td>1</td>\n",
       "      <td>122</td>\n",
       "      <td>192</td>\n",
       "      <td>0</td>\n",
       "      <td>1</td>\n",
       "      <td>174</td>\n",
       "      <td>0</td>\n",
       "      <td>0.0</td>\n",
       "      <td>2</td>\n",
       "      <td>0</td>\n",
       "      <td>2</td>\n",
       "      <td>1</td>\n",
       "    </tr>\n",
       "    <tr>\n",
       "      <th>4</th>\n",
       "      <td>278</td>\n",
       "      <td>44</td>\n",
       "      <td>1</td>\n",
       "      <td>1</td>\n",
       "      <td>130</td>\n",
       "      <td>219</td>\n",
       "      <td>0</td>\n",
       "      <td>0</td>\n",
       "      <td>188</td>\n",
       "      <td>0</td>\n",
       "      <td>0.0</td>\n",
       "      <td>2</td>\n",
       "      <td>0</td>\n",
       "      <td>2</td>\n",
       "      <td>1</td>\n",
       "    </tr>\n",
       "    <tr>\n",
       "      <th>6</th>\n",
       "      <td>624</td>\n",
       "      <td>61</td>\n",
       "      <td>1</td>\n",
       "      <td>3</td>\n",
       "      <td>134</td>\n",
       "      <td>234</td>\n",
       "      <td>0</td>\n",
       "      <td>1</td>\n",
       "      <td>145</td>\n",
       "      <td>0</td>\n",
       "      <td>2.6</td>\n",
       "      <td>1</td>\n",
       "      <td>2</td>\n",
       "      <td>2</td>\n",
       "      <td>0</td>\n",
       "    </tr>\n",
       "    <tr>\n",
       "      <th>7</th>\n",
       "      <td>600</td>\n",
       "      <td>63</td>\n",
       "      <td>0</td>\n",
       "      <td>1</td>\n",
       "      <td>140</td>\n",
       "      <td>195</td>\n",
       "      <td>0</td>\n",
       "      <td>1</td>\n",
       "      <td>179</td>\n",
       "      <td>0</td>\n",
       "      <td>0.0</td>\n",
       "      <td>2</td>\n",
       "      <td>2</td>\n",
       "      <td>2</td>\n",
       "      <td>1</td>\n",
       "    </tr>\n",
       "    <tr>\n",
       "      <th>...</th>\n",
       "      <td>...</td>\n",
       "      <td>...</td>\n",
       "      <td>...</td>\n",
       "      <td>...</td>\n",
       "      <td>...</td>\n",
       "      <td>...</td>\n",
       "      <td>...</td>\n",
       "      <td>...</td>\n",
       "      <td>...</td>\n",
       "      <td>...</td>\n",
       "      <td>...</td>\n",
       "      <td>...</td>\n",
       "      <td>...</td>\n",
       "      <td>...</td>\n",
       "      <td>...</td>\n",
       "    </tr>\n",
       "    <tr>\n",
       "      <th>711</th>\n",
       "      <td>736</td>\n",
       "      <td>50</td>\n",
       "      <td>1</td>\n",
       "      <td>2</td>\n",
       "      <td>129</td>\n",
       "      <td>196</td>\n",
       "      <td>0</td>\n",
       "      <td>1</td>\n",
       "      <td>163</td>\n",
       "      <td>0</td>\n",
       "      <td>0.0</td>\n",
       "      <td>2</td>\n",
       "      <td>0</td>\n",
       "      <td>2</td>\n",
       "      <td>1</td>\n",
       "    </tr>\n",
       "    <tr>\n",
       "      <th>712</th>\n",
       "      <td>485</td>\n",
       "      <td>65</td>\n",
       "      <td>1</td>\n",
       "      <td>0</td>\n",
       "      <td>110</td>\n",
       "      <td>248</td>\n",
       "      <td>0</td>\n",
       "      <td>0</td>\n",
       "      <td>158</td>\n",
       "      <td>0</td>\n",
       "      <td>0.6</td>\n",
       "      <td>2</td>\n",
       "      <td>2</td>\n",
       "      <td>1</td>\n",
       "      <td>0</td>\n",
       "    </tr>\n",
       "    <tr>\n",
       "      <th>713</th>\n",
       "      <td>460</td>\n",
       "      <td>51</td>\n",
       "      <td>1</td>\n",
       "      <td>0</td>\n",
       "      <td>140</td>\n",
       "      <td>261</td>\n",
       "      <td>0</td>\n",
       "      <td>0</td>\n",
       "      <td>186</td>\n",
       "      <td>1</td>\n",
       "      <td>0.0</td>\n",
       "      <td>2</td>\n",
       "      <td>0</td>\n",
       "      <td>2</td>\n",
       "      <td>1</td>\n",
       "    </tr>\n",
       "    <tr>\n",
       "      <th>714</th>\n",
       "      <td>15</td>\n",
       "      <td>52</td>\n",
       "      <td>1</td>\n",
       "      <td>0</td>\n",
       "      <td>128</td>\n",
       "      <td>204</td>\n",
       "      <td>1</td>\n",
       "      <td>1</td>\n",
       "      <td>156</td>\n",
       "      <td>1</td>\n",
       "      <td>1.0</td>\n",
       "      <td>1</td>\n",
       "      <td>0</td>\n",
       "      <td>0</td>\n",
       "      <td>0</td>\n",
       "    </tr>\n",
       "    <tr>\n",
       "      <th>716</th>\n",
       "      <td>825</td>\n",
       "      <td>61</td>\n",
       "      <td>1</td>\n",
       "      <td>0</td>\n",
       "      <td>138</td>\n",
       "      <td>166</td>\n",
       "      <td>0</td>\n",
       "      <td>0</td>\n",
       "      <td>125</td>\n",
       "      <td>1</td>\n",
       "      <td>3.6</td>\n",
       "      <td>1</td>\n",
       "      <td>1</td>\n",
       "      <td>2</td>\n",
       "      <td>0</td>\n",
       "    </tr>\n",
       "  </tbody>\n",
       "</table>\n",
       "<p>429 rows × 15 columns</p>\n",
       "</div>"
      ],
      "text/plain": [
       "      id  age  sex  cp  trestbps  chol  fbs  restecg  thalach  exang  oldpeak  \\\n",
       "2    667   35    1   1       122   192    0        1      174      0      0.0   \n",
       "3    282   35    1   1       122   192    0        1      174      0      0.0   \n",
       "4    278   44    1   1       130   219    0        0      188      0      0.0   \n",
       "6    624   61    1   3       134   234    0        1      145      0      2.6   \n",
       "7    600   63    0   1       140   195    0        1      179      0      0.0   \n",
       "..   ...  ...  ...  ..       ...   ...  ...      ...      ...    ...      ...   \n",
       "711  736   50    1   2       129   196    0        1      163      0      0.0   \n",
       "712  485   65    1   0       110   248    0        0      158      0      0.6   \n",
       "713  460   51    1   0       140   261    0        0      186      1      0.0   \n",
       "714   15   52    1   0       128   204    1        1      156      1      1.0   \n",
       "716  825   61    1   0       138   166    0        0      125      1      3.6   \n",
       "\n",
       "     slope  ca  thal  target  \n",
       "2        2   0     2       1  \n",
       "3        2   0     2       1  \n",
       "4        2   0     2       1  \n",
       "6        1   2     2       0  \n",
       "7        2   2     2       1  \n",
       "..     ...  ..   ...     ...  \n",
       "711      2   0     2       1  \n",
       "712      2   2     1       0  \n",
       "713      2   0     2       1  \n",
       "714      1   0     0       0  \n",
       "716      1   1     2       0  \n",
       "\n",
       "[429 rows x 15 columns]"
      ]
     },
     "execution_count": 6,
     "metadata": {},
     "output_type": "execute_result"
    }
   ],
   "source": [
    "df[df['thal'] != 3]"
   ]
  },
  {
   "cell_type": "markdown",
   "id": "1ea000ba",
   "metadata": {},
   "source": [
    "Como não há na tabela nenhum tipo de dado com tálio = 6 ou tálio = 7, e vários valores diferentes de 3, desconsiderei esse dado."
   ]
  },
  {
   "cell_type": "code",
   "execution_count": 7,
   "id": "b487aa83",
   "metadata": {},
   "outputs": [
    {
     "data": {
      "text/html": [
       "<div>\n",
       "<style scoped>\n",
       "    .dataframe tbody tr th:only-of-type {\n",
       "        vertical-align: middle;\n",
       "    }\n",
       "\n",
       "    .dataframe tbody tr th {\n",
       "        vertical-align: top;\n",
       "    }\n",
       "\n",
       "    .dataframe thead th {\n",
       "        text-align: right;\n",
       "    }\n",
       "</style>\n",
       "<table border=\"1\" class=\"dataframe\">\n",
       "  <thead>\n",
       "    <tr style=\"text-align: right;\">\n",
       "      <th></th>\n",
       "      <th>id</th>\n",
       "      <th>age</th>\n",
       "      <th>sex</th>\n",
       "      <th>cp</th>\n",
       "      <th>trestbps</th>\n",
       "      <th>chol</th>\n",
       "      <th>fbs</th>\n",
       "      <th>restecg</th>\n",
       "      <th>thalach</th>\n",
       "      <th>exang</th>\n",
       "      <th>oldpeak</th>\n",
       "      <th>slope</th>\n",
       "      <th>ca</th>\n",
       "      <th>thal</th>\n",
       "      <th>target</th>\n",
       "    </tr>\n",
       "  </thead>\n",
       "  <tbody>\n",
       "  </tbody>\n",
       "</table>\n",
       "</div>"
      ],
      "text/plain": [
       "Empty DataFrame\n",
       "Columns: [id, age, sex, cp, trestbps, chol, fbs, restecg, thalach, exang, oldpeak, slope, ca, thal, target]\n",
       "Index: []"
      ]
     },
     "execution_count": 7,
     "metadata": {},
     "output_type": "execute_result"
    }
   ],
   "source": [
    "df[df.duplicated()]"
   ]
  },
  {
   "cell_type": "markdown",
   "id": "f56d4c58",
   "metadata": {},
   "source": [
    "Não há nenhuma linha duplicada."
   ]
  },
  {
   "cell_type": "markdown",
   "id": "e16b075b",
   "metadata": {},
   "source": [
    "### 1.4. Estatísticas descritivas"
   ]
  },
  {
   "cell_type": "code",
   "execution_count": 8,
   "id": "61e71ddb",
   "metadata": {},
   "outputs": [
    {
     "data": {
      "text/html": [
       "<div>\n",
       "<style scoped>\n",
       "    .dataframe tbody tr th:only-of-type {\n",
       "        vertical-align: middle;\n",
       "    }\n",
       "\n",
       "    .dataframe tbody tr th {\n",
       "        vertical-align: top;\n",
       "    }\n",
       "\n",
       "    .dataframe thead th {\n",
       "        text-align: right;\n",
       "    }\n",
       "</style>\n",
       "<table border=\"1\" class=\"dataframe\">\n",
       "  <thead>\n",
       "    <tr style=\"text-align: right;\">\n",
       "      <th></th>\n",
       "      <th>id</th>\n",
       "      <th>age</th>\n",
       "      <th>sex</th>\n",
       "      <th>cp</th>\n",
       "      <th>trestbps</th>\n",
       "      <th>chol</th>\n",
       "      <th>fbs</th>\n",
       "      <th>restecg</th>\n",
       "      <th>thalach</th>\n",
       "      <th>exang</th>\n",
       "      <th>oldpeak</th>\n",
       "      <th>slope</th>\n",
       "      <th>ca</th>\n",
       "      <th>thal</th>\n",
       "      <th>target</th>\n",
       "    </tr>\n",
       "  </thead>\n",
       "  <tbody>\n",
       "    <tr>\n",
       "      <th>count</th>\n",
       "      <td>717.000000</td>\n",
       "      <td>717.000000</td>\n",
       "      <td>717.000000</td>\n",
       "      <td>717.000000</td>\n",
       "      <td>717.000000</td>\n",
       "      <td>717.000000</td>\n",
       "      <td>717.000000</td>\n",
       "      <td>717.000000</td>\n",
       "      <td>717.000000</td>\n",
       "      <td>717.000000</td>\n",
       "      <td>717.000000</td>\n",
       "      <td>717.000000</td>\n",
       "      <td>717.000000</td>\n",
       "      <td>717.000000</td>\n",
       "      <td>717.000000</td>\n",
       "    </tr>\n",
       "    <tr>\n",
       "      <th>mean</th>\n",
       "      <td>512.239888</td>\n",
       "      <td>54.553696</td>\n",
       "      <td>0.686192</td>\n",
       "      <td>0.910739</td>\n",
       "      <td>132.570432</td>\n",
       "      <td>247.794979</td>\n",
       "      <td>0.142259</td>\n",
       "      <td>0.511855</td>\n",
       "      <td>148.796374</td>\n",
       "      <td>0.330544</td>\n",
       "      <td>1.047559</td>\n",
       "      <td>1.394700</td>\n",
       "      <td>0.746165</td>\n",
       "      <td>2.333333</td>\n",
       "      <td>0.513250</td>\n",
       "    </tr>\n",
       "    <tr>\n",
       "      <th>std</th>\n",
       "      <td>297.281629</td>\n",
       "      <td>9.101168</td>\n",
       "      <td>0.464363</td>\n",
       "      <td>1.022298</td>\n",
       "      <td>17.864781</td>\n",
       "      <td>50.842990</td>\n",
       "      <td>0.349560</td>\n",
       "      <td>0.522068</td>\n",
       "      <td>23.055019</td>\n",
       "      <td>0.470737</td>\n",
       "      <td>1.178620</td>\n",
       "      <td>0.629023</td>\n",
       "      <td>1.020599</td>\n",
       "      <td>0.606452</td>\n",
       "      <td>0.500173</td>\n",
       "    </tr>\n",
       "    <tr>\n",
       "      <th>min</th>\n",
       "      <td>1.000000</td>\n",
       "      <td>29.000000</td>\n",
       "      <td>0.000000</td>\n",
       "      <td>0.000000</td>\n",
       "      <td>94.000000</td>\n",
       "      <td>126.000000</td>\n",
       "      <td>0.000000</td>\n",
       "      <td>0.000000</td>\n",
       "      <td>71.000000</td>\n",
       "      <td>0.000000</td>\n",
       "      <td>0.000000</td>\n",
       "      <td>0.000000</td>\n",
       "      <td>0.000000</td>\n",
       "      <td>0.000000</td>\n",
       "      <td>0.000000</td>\n",
       "    </tr>\n",
       "    <tr>\n",
       "      <th>25%</th>\n",
       "      <td>255.000000</td>\n",
       "      <td>48.000000</td>\n",
       "      <td>0.000000</td>\n",
       "      <td>0.000000</td>\n",
       "      <td>120.000000</td>\n",
       "      <td>212.000000</td>\n",
       "      <td>0.000000</td>\n",
       "      <td>0.000000</td>\n",
       "      <td>132.000000</td>\n",
       "      <td>0.000000</td>\n",
       "      <td>0.000000</td>\n",
       "      <td>1.000000</td>\n",
       "      <td>0.000000</td>\n",
       "      <td>2.000000</td>\n",
       "      <td>0.000000</td>\n",
       "    </tr>\n",
       "    <tr>\n",
       "      <th>50%</th>\n",
       "      <td>515.000000</td>\n",
       "      <td>56.000000</td>\n",
       "      <td>1.000000</td>\n",
       "      <td>1.000000</td>\n",
       "      <td>130.000000</td>\n",
       "      <td>242.000000</td>\n",
       "      <td>0.000000</td>\n",
       "      <td>1.000000</td>\n",
       "      <td>152.000000</td>\n",
       "      <td>0.000000</td>\n",
       "      <td>0.800000</td>\n",
       "      <td>1.000000</td>\n",
       "      <td>0.000000</td>\n",
       "      <td>2.000000</td>\n",
       "      <td>1.000000</td>\n",
       "    </tr>\n",
       "    <tr>\n",
       "      <th>75%</th>\n",
       "      <td>777.000000</td>\n",
       "      <td>61.000000</td>\n",
       "      <td>1.000000</td>\n",
       "      <td>2.000000</td>\n",
       "      <td>140.000000</td>\n",
       "      <td>282.000000</td>\n",
       "      <td>0.000000</td>\n",
       "      <td>1.000000</td>\n",
       "      <td>165.000000</td>\n",
       "      <td>1.000000</td>\n",
       "      <td>1.800000</td>\n",
       "      <td>2.000000</td>\n",
       "      <td>1.000000</td>\n",
       "      <td>3.000000</td>\n",
       "      <td>1.000000</td>\n",
       "    </tr>\n",
       "    <tr>\n",
       "      <th>max</th>\n",
       "      <td>1024.000000</td>\n",
       "      <td>77.000000</td>\n",
       "      <td>1.000000</td>\n",
       "      <td>3.000000</td>\n",
       "      <td>200.000000</td>\n",
       "      <td>564.000000</td>\n",
       "      <td>1.000000</td>\n",
       "      <td>2.000000</td>\n",
       "      <td>202.000000</td>\n",
       "      <td>1.000000</td>\n",
       "      <td>6.200000</td>\n",
       "      <td>2.000000</td>\n",
       "      <td>4.000000</td>\n",
       "      <td>3.000000</td>\n",
       "      <td>1.000000</td>\n",
       "    </tr>\n",
       "  </tbody>\n",
       "</table>\n",
       "</div>"
      ],
      "text/plain": [
       "                id         age         sex          cp    trestbps  \\\n",
       "count   717.000000  717.000000  717.000000  717.000000  717.000000   \n",
       "mean    512.239888   54.553696    0.686192    0.910739  132.570432   \n",
       "std     297.281629    9.101168    0.464363    1.022298   17.864781   \n",
       "min       1.000000   29.000000    0.000000    0.000000   94.000000   \n",
       "25%     255.000000   48.000000    0.000000    0.000000  120.000000   \n",
       "50%     515.000000   56.000000    1.000000    1.000000  130.000000   \n",
       "75%     777.000000   61.000000    1.000000    2.000000  140.000000   \n",
       "max    1024.000000   77.000000    1.000000    3.000000  200.000000   \n",
       "\n",
       "             chol         fbs     restecg     thalach       exang     oldpeak  \\\n",
       "count  717.000000  717.000000  717.000000  717.000000  717.000000  717.000000   \n",
       "mean   247.794979    0.142259    0.511855  148.796374    0.330544    1.047559   \n",
       "std     50.842990    0.349560    0.522068   23.055019    0.470737    1.178620   \n",
       "min    126.000000    0.000000    0.000000   71.000000    0.000000    0.000000   \n",
       "25%    212.000000    0.000000    0.000000  132.000000    0.000000    0.000000   \n",
       "50%    242.000000    0.000000    1.000000  152.000000    0.000000    0.800000   \n",
       "75%    282.000000    0.000000    1.000000  165.000000    1.000000    1.800000   \n",
       "max    564.000000    1.000000    2.000000  202.000000    1.000000    6.200000   \n",
       "\n",
       "            slope          ca        thal      target  \n",
       "count  717.000000  717.000000  717.000000  717.000000  \n",
       "mean     1.394700    0.746165    2.333333    0.513250  \n",
       "std      0.629023    1.020599    0.606452    0.500173  \n",
       "min      0.000000    0.000000    0.000000    0.000000  \n",
       "25%      1.000000    0.000000    2.000000    0.000000  \n",
       "50%      1.000000    0.000000    2.000000    1.000000  \n",
       "75%      2.000000    1.000000    3.000000    1.000000  \n",
       "max      2.000000    4.000000    3.000000    1.000000  "
      ]
     },
     "execution_count": 8,
     "metadata": {},
     "output_type": "execute_result"
    }
   ],
   "source": [
    "df.describe()"
   ]
  },
  {
   "cell_type": "code",
   "execution_count": 9,
   "id": "3b966338",
   "metadata": {},
   "outputs": [
    {
     "name": "stdout",
     "output_type": "stream",
     "text": [
      "31.380753138075313\n",
      "94.42119944211994\n",
      "51.324965132496516\n"
     ]
    }
   ],
   "source": [
    "women = df[df['sex'] == 0]\n",
    "men = df[df['sex'] == 1]\n",
    "\n",
    "# quantos são mulheres?\n",
    "perc = len(women)/(len(women) + len(men))\n",
    "print(perc * 100)\n",
    "\n",
    "# quantos tem mais de 40 anos?\n",
    "over_40 = df[df['age'] >= 40]\n",
    "perc_over_40 = len(over_40)/len(df['age'])\n",
    "print(perc_over_40 * 100)\n",
    "\n",
    "# quantos têm doenças cardíacas?\n",
    "cardiac = df[df['target'] == 1]\n",
    "perc_cardiac = len(cardiac)/len(df['target'])\n",
    "print(perc_cardiac * 100)"
   ]
  },
  {
   "cell_type": "code",
   "execution_count": 10,
   "id": "bee4005c",
   "metadata": {},
   "outputs": [
    {
     "data": {
      "text/html": [
       "<div>\n",
       "<style scoped>\n",
       "    .dataframe tbody tr th:only-of-type {\n",
       "        vertical-align: middle;\n",
       "    }\n",
       "\n",
       "    .dataframe tbody tr th {\n",
       "        vertical-align: top;\n",
       "    }\n",
       "\n",
       "    .dataframe thead th {\n",
       "        text-align: right;\n",
       "    }\n",
       "</style>\n",
       "<table border=\"1\" class=\"dataframe\">\n",
       "  <thead>\n",
       "    <tr style=\"text-align: right;\">\n",
       "      <th></th>\n",
       "      <th>id</th>\n",
       "      <th>age</th>\n",
       "      <th>sex</th>\n",
       "      <th>cp</th>\n",
       "      <th>trestbps</th>\n",
       "      <th>chol</th>\n",
       "      <th>fbs</th>\n",
       "      <th>restecg</th>\n",
       "      <th>thalach</th>\n",
       "      <th>exang</th>\n",
       "      <th>oldpeak</th>\n",
       "      <th>slope</th>\n",
       "      <th>ca</th>\n",
       "      <th>thal</th>\n",
       "      <th>target</th>\n",
       "    </tr>\n",
       "  </thead>\n",
       "  <tbody>\n",
       "    <tr>\n",
       "      <th>count</th>\n",
       "      <td>368.000000</td>\n",
       "      <td>368.000000</td>\n",
       "      <td>368.000000</td>\n",
       "      <td>368.000000</td>\n",
       "      <td>368.000000</td>\n",
       "      <td>368.000000</td>\n",
       "      <td>368.000000</td>\n",
       "      <td>368.000000</td>\n",
       "      <td>368.00000</td>\n",
       "      <td>368.000000</td>\n",
       "      <td>368.000000</td>\n",
       "      <td>368.000000</td>\n",
       "      <td>368.000000</td>\n",
       "      <td>368.000000</td>\n",
       "      <td>368.0</td>\n",
       "    </tr>\n",
       "    <tr>\n",
       "      <th>mean</th>\n",
       "      <td>506.217391</td>\n",
       "      <td>52.312500</td>\n",
       "      <td>0.576087</td>\n",
       "      <td>1.383152</td>\n",
       "      <td>130.119565</td>\n",
       "      <td>240.945652</td>\n",
       "      <td>0.122283</td>\n",
       "      <td>0.581522</td>\n",
       "      <td>158.56250</td>\n",
       "      <td>0.108696</td>\n",
       "      <td>0.544022</td>\n",
       "      <td>1.603261</td>\n",
       "      <td>0.383152</td>\n",
       "      <td>2.119565</td>\n",
       "      <td>1.0</td>\n",
       "    </tr>\n",
       "    <tr>\n",
       "      <th>std</th>\n",
       "      <td>292.773511</td>\n",
       "      <td>9.854951</td>\n",
       "      <td>0.494850</td>\n",
       "      <td>0.952518</td>\n",
       "      <td>16.584746</td>\n",
       "      <td>50.518319</td>\n",
       "      <td>0.328058</td>\n",
       "      <td>0.504893</td>\n",
       "      <td>19.03865</td>\n",
       "      <td>0.311681</td>\n",
       "      <td>0.761983</td>\n",
       "      <td>0.599900</td>\n",
       "      <td>0.890421</td>\n",
       "      <td>0.451275</td>\n",
       "      <td>0.0</td>\n",
       "    </tr>\n",
       "    <tr>\n",
       "      <th>min</th>\n",
       "      <td>6.000000</td>\n",
       "      <td>29.000000</td>\n",
       "      <td>0.000000</td>\n",
       "      <td>0.000000</td>\n",
       "      <td>94.000000</td>\n",
       "      <td>126.000000</td>\n",
       "      <td>0.000000</td>\n",
       "      <td>0.000000</td>\n",
       "      <td>96.00000</td>\n",
       "      <td>0.000000</td>\n",
       "      <td>0.000000</td>\n",
       "      <td>0.000000</td>\n",
       "      <td>0.000000</td>\n",
       "      <td>0.000000</td>\n",
       "      <td>1.0</td>\n",
       "    </tr>\n",
       "    <tr>\n",
       "      <th>25%</th>\n",
       "      <td>257.750000</td>\n",
       "      <td>44.000000</td>\n",
       "      <td>0.000000</td>\n",
       "      <td>1.000000</td>\n",
       "      <td>120.000000</td>\n",
       "      <td>209.000000</td>\n",
       "      <td>0.000000</td>\n",
       "      <td>0.000000</td>\n",
       "      <td>148.00000</td>\n",
       "      <td>0.000000</td>\n",
       "      <td>0.000000</td>\n",
       "      <td>1.000000</td>\n",
       "      <td>0.000000</td>\n",
       "      <td>2.000000</td>\n",
       "      <td>1.0</td>\n",
       "    </tr>\n",
       "    <tr>\n",
       "      <th>50%</th>\n",
       "      <td>502.000000</td>\n",
       "      <td>52.000000</td>\n",
       "      <td>1.000000</td>\n",
       "      <td>2.000000</td>\n",
       "      <td>130.000000</td>\n",
       "      <td>234.000000</td>\n",
       "      <td>0.000000</td>\n",
       "      <td>1.000000</td>\n",
       "      <td>161.00000</td>\n",
       "      <td>0.000000</td>\n",
       "      <td>0.200000</td>\n",
       "      <td>2.000000</td>\n",
       "      <td>0.000000</td>\n",
       "      <td>2.000000</td>\n",
       "      <td>1.0</td>\n",
       "    </tr>\n",
       "    <tr>\n",
       "      <th>75%</th>\n",
       "      <td>756.000000</td>\n",
       "      <td>59.000000</td>\n",
       "      <td>1.000000</td>\n",
       "      <td>2.000000</td>\n",
       "      <td>140.000000</td>\n",
       "      <td>267.000000</td>\n",
       "      <td>0.000000</td>\n",
       "      <td>1.000000</td>\n",
       "      <td>172.00000</td>\n",
       "      <td>0.000000</td>\n",
       "      <td>1.000000</td>\n",
       "      <td>2.000000</td>\n",
       "      <td>0.000000</td>\n",
       "      <td>2.000000</td>\n",
       "      <td>1.0</td>\n",
       "    </tr>\n",
       "    <tr>\n",
       "      <th>max</th>\n",
       "      <td>1024.000000</td>\n",
       "      <td>76.000000</td>\n",
       "      <td>1.000000</td>\n",
       "      <td>3.000000</td>\n",
       "      <td>180.000000</td>\n",
       "      <td>564.000000</td>\n",
       "      <td>1.000000</td>\n",
       "      <td>2.000000</td>\n",
       "      <td>202.00000</td>\n",
       "      <td>1.000000</td>\n",
       "      <td>4.200000</td>\n",
       "      <td>2.000000</td>\n",
       "      <td>4.000000</td>\n",
       "      <td>3.000000</td>\n",
       "      <td>1.0</td>\n",
       "    </tr>\n",
       "  </tbody>\n",
       "</table>\n",
       "</div>"
      ],
      "text/plain": [
       "                id         age         sex          cp    trestbps  \\\n",
       "count   368.000000  368.000000  368.000000  368.000000  368.000000   \n",
       "mean    506.217391   52.312500    0.576087    1.383152  130.119565   \n",
       "std     292.773511    9.854951    0.494850    0.952518   16.584746   \n",
       "min       6.000000   29.000000    0.000000    0.000000   94.000000   \n",
       "25%     257.750000   44.000000    0.000000    1.000000  120.000000   \n",
       "50%     502.000000   52.000000    1.000000    2.000000  130.000000   \n",
       "75%     756.000000   59.000000    1.000000    2.000000  140.000000   \n",
       "max    1024.000000   76.000000    1.000000    3.000000  180.000000   \n",
       "\n",
       "             chol         fbs     restecg    thalach       exang     oldpeak  \\\n",
       "count  368.000000  368.000000  368.000000  368.00000  368.000000  368.000000   \n",
       "mean   240.945652    0.122283    0.581522  158.56250    0.108696    0.544022   \n",
       "std     50.518319    0.328058    0.504893   19.03865    0.311681    0.761983   \n",
       "min    126.000000    0.000000    0.000000   96.00000    0.000000    0.000000   \n",
       "25%    209.000000    0.000000    0.000000  148.00000    0.000000    0.000000   \n",
       "50%    234.000000    0.000000    1.000000  161.00000    0.000000    0.200000   \n",
       "75%    267.000000    0.000000    1.000000  172.00000    0.000000    1.000000   \n",
       "max    564.000000    1.000000    2.000000  202.00000    1.000000    4.200000   \n",
       "\n",
       "            slope          ca        thal  target  \n",
       "count  368.000000  368.000000  368.000000   368.0  \n",
       "mean     1.603261    0.383152    2.119565     1.0  \n",
       "std      0.599900    0.890421    0.451275     0.0  \n",
       "min      0.000000    0.000000    0.000000     1.0  \n",
       "25%      1.000000    0.000000    2.000000     1.0  \n",
       "50%      2.000000    0.000000    2.000000     1.0  \n",
       "75%      2.000000    0.000000    2.000000     1.0  \n",
       "max      2.000000    4.000000    3.000000     1.0  "
      ]
     },
     "execution_count": 10,
     "metadata": {},
     "output_type": "execute_result"
    }
   ],
   "source": [
    "# estatísticas descritivas para apenas pessoas que têm doença cardíaca\n",
    "\n",
    "cardiac.describe()"
   ]
  },
  {
   "cell_type": "code",
   "execution_count": 11,
   "id": "0fb61281",
   "metadata": {},
   "outputs": [
    {
     "name": "stdout",
     "output_type": "stream",
     "text": [
      "77.17391304347827\n",
      "80.97826086956522\n",
      "63.858695652173914\n",
      "87.77173913043478\n",
      "89.13043478260869\n",
      "57.608695652173914\n",
      "21.73913043478261\n",
      "94.02173913043478\n",
      "35.869565217391305\n",
      "91.03260869565217\n",
      "50.815217391304344\n",
      "42.391304347826086\n"
     ]
    }
   ],
   "source": [
    "# quantos dos pacientes com doença cardíaca tem dor no peito >= 1?\n",
    "\n",
    "print(len(cardiac[cardiac['cp'] >= 1])/len(cardiac['cp']) * 100)\n",
    "\n",
    "# quantos dos pacientes com doença cardíaca tem colesterol maior que 200?\n",
    "\n",
    "print(len(cardiac[cardiac['chol'] > 200])/len(cardiac['chol']) * 100)\n",
    "\n",
    "# quantos dos pacientes com doença cardíaca tem pressão arterial em repouso > 120?\n",
    "\n",
    "print(len(cardiac[cardiac['trestbps'] > 120])/len(cardiac['trestbps']) * 100)\n",
    "\n",
    "# quantos dos pacientes com doença cardíaca tem glicemia de jejum < 120 mg/dl?\n",
    "\n",
    "print(len(cardiac[cardiac['fbs'] == 0])/len(cardiac['fbs']) * 100)\n",
    "\n",
    "# quantos dos pacientes com doença cardíaca não tem angina induzida por exercício?\n",
    "\n",
    "print(len(cardiac[cardiac['exang'] == 0])/len(cardiac['exang']) * 100)\n",
    "\n",
    "# quantos dos pacientes com doença cardíaca tem resultados do eletrocardiograma em repouso != 0?\n",
    "\n",
    "print(len(cardiac[cardiac['restecg'] != 0])/len(cardiac['restecg']) * 100)\n",
    "\n",
    "# quantos dos pacientes com doença cardíaca tem número de vasos principais coloridos por fluoroscopia != 0?\n",
    "\n",
    "print(len(cardiac[cardiac['ca'] != 0])/len(cardiac['ca']) * 100)\n",
    "\n",
    "# quantos dos pacientes com doença cardíaca tem inclinação do segmento ST durante o esforço != 0?\n",
    "\n",
    "print(len(cardiac[cardiac['slope'] != 0])/len(cardiac['slope']) * 100)\n",
    "\n",
    "# quantos dos pacientes com doença cardíaca tem oldpeak > 0.5?\n",
    "\n",
    "print(len(cardiac[cardiac['oldpeak'] > 0.5])/len(cardiac['oldpeak']) * 100)\n",
    "\n",
    "# quantos dos pacientes com doença cardíaca tem > 40 anos?\n",
    "\n",
    "print(len(cardiac[cardiac['age'] > 40])/len(cardiac['age']) * 100)\n",
    "\n",
    "#  quantos dos pacientes com doença cardíaca tem frequencia cardiaca maior que 160?\n",
    "\n",
    "print(len(cardiac[cardiac['thalach'] > 160])/len(cardiac['thalach']) * 100)\n",
    "\n",
    "# quantos dos pacientes com doença cardíaca são mulheres?\n",
    "\n",
    "print(len(cardiac[cardiac['sex'] == 0])/len(cardiac['sex']) * 100)"
   ]
  },
  {
   "cell_type": "markdown",
   "id": "09cc586f",
   "metadata": {},
   "source": [
    "A partir dos números acima, o colesterol alto, a glicemia em jejum baixa, a falta de angina induzida, a inclinação diferente de 0 e a idade parecem ser os fatores em comum mais significativos das pessoas que possuem doenças cardíacas."
   ]
  },
  {
   "cell_type": "markdown",
   "id": "6c4cff40",
   "metadata": {},
   "source": [
    "### 1.5. Gráficos das estatísticas"
   ]
  },
  {
   "cell_type": "markdown",
   "id": "76e245c5",
   "metadata": {},
   "source": [
    "#### 1.5.1. Colesterol"
   ]
  },
  {
   "cell_type": "code",
   "execution_count": 12,
   "id": "e0185efe",
   "metadata": {},
   "outputs": [],
   "source": [
    "# pesssoas sem doenças cardíacas\n",
    "healthy = df[df['target'] == 0]"
   ]
  },
  {
   "cell_type": "code",
   "execution_count": 13,
   "id": "aa8b9949",
   "metadata": {},
   "outputs": [
    {
     "data": {
      "image/png": "[encoded data removed]",
      "text/plain": [
       "<Figure size 1000x500 with 2 Axes>"
      ]
     },
     "metadata": {},
     "output_type": "display_data"
    }
   ],
   "source": [
    "\n",
    "fig, (ax1, ax2) = plt.subplots(1, 2, figsize=(10, 5))\n",
    "\n",
    "ax1.hist(cardiac['chol'], bins=100, color='red', edgecolor='black')\n",
    "ax1.set_title('Colesterol de pessoas com doenças cardíacas (mg/dL)', fontsize=10)\n",
    "ax2.hist(healthy['chol'], bins=100, color='skyblue', edgecolor='black')\n",
    "ax2.set_title('Colesterol de pessoas sem doenças cardíacas (mg/dL)', fontsize=10)\n",
    "plt.ylabel('Frequência')\n",
    "ax1.grid(True)\n",
    "ax2.grid(True)\n",
    "plt.show()"
   ]
  },
  {
   "cell_type": "markdown",
   "id": "9b9e442f",
   "metadata": {},
   "source": [
    "É possível ver que as diferenças dos valores máximos e das modas dos valores são consideráveis e pessoas com doenças tem colesterol significantemente mais alto:"
   ]
  },
  {
   "cell_type": "code",
   "execution_count": 14,
   "id": "aca5bc7f",
   "metadata": {},
   "outputs": [
    {
     "name": "stdout",
     "output_type": "stream",
     "text": [
      "0    240\n",
      "Name: chol, dtype: int64\n",
      "0    212\n",
      "Name: chol, dtype: int64\n",
      "155\n"
     ]
    }
   ],
   "source": [
    "# valor mais comum dos cardíacos\n",
    "print(cardiac['chol'].mode())\n",
    "# valor mais comum dos saudáveis\n",
    "print(healthy['chol'].mode())\n",
    "# diferença entre os máximos\n",
    "print(cardiac['chol'].max() - healthy['chol'].max())"
   ]
  },
  {
   "cell_type": "markdown",
   "id": "52244195",
   "metadata": {},
   "source": [
    "#### 1.5.2. Pressão arterial"
   ]
  },
  {
   "cell_type": "code",
   "execution_count": 15,
   "id": "8cf5fb0d",
   "metadata": {},
   "outputs": [
    {
     "data": {
      "image/png": "[encoded data removed]",
      "text/plain": [
       "<Figure size 1000x500 with 2 Axes>"
      ]
     },
     "metadata": {},
     "output_type": "display_data"
    }
   ],
   "source": [
    "fig, (ax1, ax2) = plt.subplots(1, 2, figsize=(10, 5))\n",
    "\n",
    "ax1.hist(cardiac['trestbps'], bins=50, color='red', edgecolor='black')\n",
    "ax1.set_title('Pressão arterial em repouso (mm Hg) de pessoas cardíacas', fontsize=10)\n",
    "ax2.hist(healthy['trestbps'], bins=50, color='skyblue', edgecolor='black')\n",
    "ax2.set_title('Pressão arterial em repouso (mm Hg) de pessoas saudáveis', fontsize=10)\n",
    "plt.ylabel('Frequência')\n",
    "ax1.grid(True)\n",
    "ax2.grid(True)\n",
    "plt.show()"
   ]
  },
  {
   "cell_type": "markdown",
   "id": "9ca90cb0",
   "metadata": {},
   "source": [
    "Abaixo, pode-se notar que essa variável não faz tanta diferença entre cardíacos e saudáveis:"
   ]
  },
  {
   "cell_type": "code",
   "execution_count": 16,
   "id": "5aa022fc",
   "metadata": {},
   "outputs": [
    {
     "name": "stdout",
     "output_type": "stream",
     "text": [
      "0    120\n",
      "Name: trestbps, dtype: int64\n",
      "0    130\n",
      "Name: trestbps, dtype: int64\n",
      "-20\n"
     ]
    }
   ],
   "source": [
    "# valor mais comum dos cardíacos\n",
    "print(cardiac['trestbps'].mode())\n",
    "# valor mais comum dos saudáveis\n",
    "print(healthy['trestbps'].mode())\n",
    "# diferença entre os máximos\n",
    "print(cardiac['trestbps'].max() - healthy['trestbps'].max())"
   ]
  },
  {
   "cell_type": "markdown",
   "id": "315b72ed",
   "metadata": {},
   "source": [
    "#### 1.5.3. Frequência Cardíaca Máxima Medida"
   ]
  },
  {
   "cell_type": "markdown",
   "id": "f1276f55",
   "metadata": {},
   "source": [
    "Os gráficos abaixo mostram que há medidas mais elevadas para pessoas cardíacas."
   ]
  },
  {
   "cell_type": "code",
   "execution_count": 17,
   "id": "9045e42f",
   "metadata": {},
   "outputs": [
    {
     "data": {
      "image/png": "[encoded data removed]",
      "text/plain": [
       "<Figure size 1000x500 with 2 Axes>"
      ]
     },
     "metadata": {},
     "output_type": "display_data"
    }
   ],
   "source": [
    "fig, (ax1, ax2) = plt.subplots(1, 2, figsize=(10, 5))\n",
    "\n",
    "ax1.hist(cardiac['thalach'], bins=50, color='red', edgecolor='black')\n",
    "ax1.set_title('Frequência cardíaca máxima atingida (bpm) dos cardiacos', fontsize=10)\n",
    "ax2.hist(healthy['thalach'], bins=50, color='skyblue', edgecolor='black')\n",
    "ax2.set_title('Frequência cardíaca máxima normal (bpm) dos saudaveis', fontsize=10)\n",
    "\n",
    "plt.ylabel('Frequência')\n",
    "ax1.grid(True)\n",
    "ax2.grid(True)\n",
    "plt.show()"
   ]
  },
  {
   "cell_type": "code",
   "execution_count": 18,
   "id": "9fbae015",
   "metadata": {},
   "outputs": [
    {
     "data": {
      "text/plain": [
       "17.191977077363894"
      ]
     },
     "execution_count": 18,
     "metadata": {},
     "output_type": "execute_result"
    }
   ],
   "source": [
    "# em comparação com os cardíacos (50%), apenas 17% dos saudáveis tem frequência máxima maior que 160.\n",
    "\n",
    "len(healthy[healthy['thalach'] > 160])/len(healthy['thalach']) * 100"
   ]
  },
  {
   "cell_type": "markdown",
   "id": "1d522dc3",
   "metadata": {},
   "source": [
    "Os gráficos mostram que a thalach dos cardíacos é significantemente mais alta."
   ]
  },
  {
   "cell_type": "code",
   "execution_count": 19,
   "id": "ffce4515",
   "metadata": {},
   "outputs": [
    {
     "name": "stdout",
     "output_type": "stream",
     "text": [
      "0    162\n",
      "Name: thalach, dtype: int64\n",
      "0    125\n",
      "1    132\n",
      "Name: thalach, dtype: int64\n",
      "7\n"
     ]
    }
   ],
   "source": [
    "# valor mais comum dos cardíacos\n",
    "print(cardiac['thalach'].mode())\n",
    "# valor mais comum dos saudáveis\n",
    "print(healthy['thalach'].mode())\n",
    "# diferença entre os máximos\n",
    "print(cardiac['thalach'].max() - healthy['thalach'].max())"
   ]
  },
  {
   "cell_type": "markdown",
   "id": "4853ffdb",
   "metadata": {},
   "source": [
    "#### 1.5.4. Número de vasos principais coloridos por fluoroscopia"
   ]
  },
  {
   "cell_type": "markdown",
   "id": "c9f971fc",
   "metadata": {},
   "source": [
    "Esse gráfico mostra que a maioria dos pacientes com doenças cardíacas não apresentam vasos principais coloridos."
   ]
  },
  {
   "cell_type": "code",
   "execution_count": 20,
   "id": "f423a374",
   "metadata": {},
   "outputs": [
    {
     "data": {
      "image/png": "[encoded data removed]",
      "text/plain": [
       "<Figure size 1000x500 with 2 Axes>"
      ]
     },
     "metadata": {},
     "output_type": "display_data"
    }
   ],
   "source": [
    "fig, (ax1, ax2) = plt.subplots(1, 2, figsize=(10, 5))\n",
    "\n",
    "ax1.hist(cardiac['ca'], bins=50, color='red', edgecolor='black')\n",
    "ax1.set_title('número de vasos principais coloridos por fluoroscopia dos cardiacos', fontsize=8)\n",
    "ax2.hist(healthy['ca'], bins=50, color='skyblue', edgecolor='black')\n",
    "ax2.set_title('número de vasos principais coloridos por fluoroscopia dos saudaveis', fontsize=8)\n",
    "\n",
    "plt.ylabel('Frequência')\n",
    "ax1.grid(True)\n",
    "ax2.grid(True)\n",
    "plt.show()"
   ]
  },
  {
   "cell_type": "markdown",
   "id": "5faf838a",
   "metadata": {},
   "source": [
    "#### 1.5.5. Depressão do segmento ST"
   ]
  },
  {
   "cell_type": "markdown",
   "id": "f8f13ab3",
   "metadata": {},
   "source": [
    "No gráfico abaixo, fica claro que pessoas com doenças cardiacas tem menores depressões do segmento ST induzidas."
   ]
  },
  {
   "cell_type": "code",
   "execution_count": 21,
   "id": "cdf68c06",
   "metadata": {},
   "outputs": [
    {
     "data": {
      "image/png": "[encoded data removed]",
      "text/plain": [
       "<Figure size 1000x500 with 2 Axes>"
      ]
     },
     "metadata": {},
     "output_type": "display_data"
    }
   ],
   "source": [
    "fig, (ax1, ax2) = plt.subplots(1, 2, figsize=(10, 5))\n",
    "\n",
    "ax1.hist(cardiac['oldpeak'], bins=50, color='red', edgecolor='black')\n",
    "ax1.set_title('Depressão do segmento ST induzida dos cardíacos (mm)', fontsize=10)\n",
    "ax2.hist(healthy['oldpeak'], bins=50, color='skyblue', edgecolor='black')\n",
    "ax2.set_title('Depressão do segmento ST induzida dos saudáveis (mm)', fontsize=10)\n",
    "\n",
    "plt.ylabel('Frequência')\n",
    "ax1.grid(True)\n",
    "ax2.grid(True)\n",
    "plt.show()"
   ]
  },
  {
   "cell_type": "markdown",
   "id": "be704f08",
   "metadata": {},
   "source": [
    "#### 1.5.6. Inclinação do segmento ST durante o esforço\n",
    "\n",
    "O gráfico abaixo mostra que pacientes com doenças tem maior inclinação do segmento ST."
   ]
  },
  {
   "cell_type": "code",
   "execution_count": 22,
   "id": "34273b43",
   "metadata": {},
   "outputs": [
    {
     "data": {
      "image/png": "[encoded data removed]",
      "text/plain": [
       "<Figure size 1000x500 with 2 Axes>"
      ]
     },
     "metadata": {},
     "output_type": "display_data"
    }
   ],
   "source": [
    "fig, (ax1, ax2) = plt.subplots(1, 2, figsize=(10, 5))\n",
    "\n",
    "ax1.hist(cardiac['slope'], bins=50, color='red', edgecolor='black')\n",
    "ax1.set_title('Inclinação do segmento ST durante o esforço dos cardíacos (mm)', fontsize=8)\n",
    "ax2.hist(healthy['slope'], bins=50, color='skyblue', edgecolor='black')\n",
    "ax2.set_title('Inclinação do segmento ST durante o esforço dos saudáveis (mm)', fontsize=8)\n",
    "\n",
    "plt.ylabel('Frequência')\n",
    "ax1.grid(True)\n",
    "ax2.grid(True)\n",
    "plt.show()"
   ]
  },
  {
   "cell_type": "markdown",
   "id": "d8cab129",
   "metadata": {},
   "source": [
    "#### 1.5.7. Glicemia de jejum\n",
    "\n",
    "O gráfico abaixo mostra que não há uma diferença muito significativa entre os cardíacos e os saudáveis nessa variável."
   ]
  },
  {
   "cell_type": "code",
   "execution_count": 23,
   "id": "b075d038",
   "metadata": {},
   "outputs": [
    {
     "data": {
      "image/png": "[encoded data removed]",
      "text/plain": [
       "<Figure size 1000x500 with 2 Axes>"
      ]
     },
     "metadata": {},
     "output_type": "display_data"
    }
   ],
   "source": [
    "fig, (ax1, ax2) = plt.subplots(1, 2, figsize=(10, 5))\n",
    "\n",
    "ax1.hist(cardiac['fbs'], bins=50, color='red', edgecolor='black')\n",
    "ax1.set_title('Glicemia de jejum > 120 mg/dl (1 = verdadeiro, 0 = falso) dos cardiacos', fontsize=8)\n",
    "ax2.hist(healthy['fbs'], bins=50, color='skyblue', edgecolor='black')\n",
    "ax2.set_title('Glicemia de jejum > 120 mg/dl (1 = verdadeiro, 0 = falso) dos saudáveis', fontsize=8)\n",
    "\n",
    "plt.ylabel('Frequência')\n",
    "ax1.grid(True)\n",
    "ax2.grid(True)\n",
    "plt.show()"
   ]
  },
  {
   "cell_type": "markdown",
   "id": "098b53bb",
   "metadata": {},
   "source": [
    "#### 1.5.8. Idade"
   ]
  },
  {
   "cell_type": "markdown",
   "id": "06c11ac6",
   "metadata": {},
   "source": [
    "Os gráficos abaixo mostram que essa variável pode não ser tão significativa."
   ]
  },
  {
   "cell_type": "code",
   "execution_count": 24,
   "id": "63e6db0e",
   "metadata": {},
   "outputs": [
    {
     "data": {
      "image/png": "[encoded data removed]",
      "text/plain": [
       "<Figure size 1000x500 with 2 Axes>"
      ]
     },
     "metadata": {},
     "output_type": "display_data"
    }
   ],
   "source": [
    "fig, (ax1, ax2) = plt.subplots(1, 2, figsize=(10, 5))\n",
    "\n",
    "ax1.hist(cardiac['age'], bins=50, color='red', edgecolor='black')\n",
    "ax1.set_title('Idades dos cardiacos')\n",
    "ax2.hist(healthy['age'], bins=50, color='skyblue', edgecolor='black')\n",
    "ax2.set_title('Idades dos saudáveis')\n",
    "\n",
    "plt.ylabel('Frequência')\n",
    "ax1.grid(True)\n",
    "ax2.grid(True)\n",
    "plt.show()"
   ]
  },
  {
   "cell_type": "markdown",
   "id": "803d8197",
   "metadata": {},
   "source": [
    "#### 1.5.9. Sexo"
   ]
  },
  {
   "cell_type": "markdown",
   "id": "507162e1",
   "metadata": {},
   "source": [
    "Há mais homens nas duas amostras, então essa pode não ser uma variável muito significativa."
   ]
  },
  {
   "cell_type": "code",
   "execution_count": 25,
   "id": "1e48ef45",
   "metadata": {},
   "outputs": [
    {
     "data": {
      "image/png": "[encoded data removed]",
      "text/plain": [
       "<Figure size 1000x500 with 2 Axes>"
      ]
     },
     "metadata": {},
     "output_type": "display_data"
    }
   ],
   "source": [
    "fig, (ax1, ax2) = plt.subplots(1, 2, figsize=(10, 5))\n",
    "\n",
    "ax1.hist(cardiac['sex'], bins=50, color='red', edgecolor='black')\n",
    "ax1.set_title('Sexo dos cardiacos (0 = mulher, 1 = homem)')\n",
    "ax2.hist(healthy['sex'], bins=50, color='skyblue', edgecolor='black')\n",
    "ax2.set_title('Sexo dos saudáveis (0 = mulher, 1 = homem)')\n",
    "\n",
    "plt.ylabel('Frequência')\n",
    "ax1.grid(True)\n",
    "ax2.grid(True)\n",
    "plt.show()"
   ]
  },
  {
   "cell_type": "markdown",
   "id": "96175682",
   "metadata": {},
   "source": [
    "## 1.6. Hipóteses\n",
    "\n",
    "### 1.6.1. Pessoas com problemas cardíacos tem menores depressões do segmento ST, mas maiores inclinações."
   ]
  },
  {
   "cell_type": "code",
   "execution_count": 26,
   "id": "ea854bf5",
   "metadata": {},
   "outputs": [
    {
     "data": {
      "image/png": "[encoded data removed]",
      "text/plain": [
       "<Figure size 640x480 with 1 Axes>"
      ]
     },
     "metadata": {},
     "output_type": "display_data"
    }
   ],
   "source": [
    "plt.scatter(cardiac['oldpeak'], cardiac['slope'])\n",
    "plt.title(\"Segmento ST\")\n",
    "plt.xlabel(\"depressão do segmento ST\")\n",
    "plt.ylabel(\"inclinação do segmento ST\")\n",
    "plt.show()"
   ]
  },
  {
   "cell_type": "markdown",
   "id": "e88da69a",
   "metadata": {},
   "source": [
    "### 1.6.2. Pessoas com maior dor no peito tem maior frequência máxima medida."
   ]
  },
  {
   "cell_type": "code",
   "execution_count": 27,
   "id": "3fe288b3",
   "metadata": {},
   "outputs": [
    {
     "data": {
      "image/png": "[encoded data removed]",
      "text/plain": [
       "<Figure size 640x480 with 1 Axes>"
      ]
     },
     "metadata": {},
     "output_type": "display_data"
    }
   ],
   "source": [
    "# para todos os pacientes\n",
    "plt.scatter(df['thalach'], df['cp'])\n",
    "plt.title(\"frequência x dor no peito\")\n",
    "plt.xlabel(\"frequencia maxima medida\")\n",
    "plt.ylabel(\"dor no peito\")\n",
    "plt.show()"
   ]
  },
  {
   "cell_type": "code",
   "execution_count": 28,
   "id": "d7effa48",
   "metadata": {},
   "outputs": [
    {
     "data": {
      "image/png": "[encoded data removed]",
      "text/plain": [
       "<Figure size 640x480 with 1 Axes>"
      ]
     },
     "metadata": {},
     "output_type": "display_data"
    }
   ],
   "source": [
    "plt.scatter(cardiac['thalach'], cardiac['cp'], color='red', label='cardíacos')\n",
    "plt.scatter(healthy['thalach'], healthy['cp'], label='saudáveis')\n",
    "\n",
    "plt.title(\"Frequência cardíaca máxima x Dor no peito\")\n",
    "plt.xlabel(\"Frequência máxima medida\")\n",
    "plt.ylabel(\"Dor no peito\")\n",
    "plt.legend()  # adiciona legenda para diferenciar as cores\n",
    "plt.show()"
   ]
  },
  {
   "cell_type": "code",
   "execution_count": 29,
   "id": "13a73f93",
   "metadata": {},
   "outputs": [
    {
     "name": "stdout",
     "output_type": "stream",
     "text": [
      "dor no peito = 1:\n",
      "cardíacos (média): 164.0612244897959\n",
      "cardíacos (moda): [162]\n",
      "saudáveis (média): 154.33333333333334\n",
      "saudáveis (moda): [160 164]\n",
      "-------------\n",
      "dor no peito = 2:\n",
      "cardíacos (média): 159.63945578231292\n",
      "cardíacos (moda): [152 173]\n",
      "saudáveis (média): 142.0\n",
      "saudáveis (moda): [150]\n",
      "-------------\n",
      "dor no peito = 3:\n",
      "cardíacos (média): 155.17948717948718\n",
      "cardíacos (moda): [155 162 190]\n",
      "saudáveis (média): 150.66666666666666\n",
      "saudáveis (moda): [125 159]\n"
     ]
    }
   ],
   "source": [
    "# médias e modas das pessoas com dor no peito = 1\n",
    "print('dor no peito = 1:')\n",
    "print('cardíacos (média):', cardiac[cardiac['cp'] == 1]['thalach'].mean())\n",
    "print('cardíacos (moda):', np.array(cardiac[cardiac['cp'] == 1]['thalach'].mode()))\n",
    "print('saudáveis (média):', healthy[healthy['cp'] == 1]['thalach'].mean())\n",
    "print('saudáveis (moda):', np.array(healthy[healthy['cp'] == 1]['thalach'].mode()))\n",
    "print(\"-------------\")\n",
    "\n",
    "# médias e moda das pessoas com dor no peito = 2\n",
    "print('dor no peito = 2:')\n",
    "print('cardíacos (média):', cardiac[cardiac['cp'] == 2]['thalach'].mean())\n",
    "print('cardíacos (moda):', np.array(cardiac[cardiac['cp'] == 2]['thalach'].mode()))\n",
    "print('saudáveis (média):', healthy[healthy['cp'] == 2]['thalach'].mean())\n",
    "print('saudáveis (moda):', np.array(healthy[healthy['cp'] == 2]['thalach'].mode()))\n",
    "print(\"-------------\")\n",
    "\n",
    "# médias das pessoas com dor no peito = 3\n",
    "print('dor no peito = 3:')\n",
    "print('cardíacos (média):', cardiac[cardiac['cp'] == 3]['thalach'].mean())\n",
    "print('cardíacos (moda):', np.array(cardiac[cardiac['cp'] == 3]['thalach'].mode()))\n",
    "print('saudáveis (média):', healthy[healthy['cp'] == 3]['thalach'].mean())\n",
    "print('saudáveis (moda):', np.array(healthy[healthy['cp'] == 3]['thalach'].mode()))"
   ]
  },
  {
   "cell_type": "markdown",
   "id": "6c7e3081",
   "metadata": {},
   "source": [
    "## 2. Modelo preditivo"
   ]
  },
  {
   "cell_type": "markdown",
   "id": "a8c86f42",
   "metadata": {},
   "source": [
    "### 2.1. Random Forest (1)"
   ]
  },
  {
   "cell_type": "code",
   "execution_count": 30,
   "id": "c01ea475",
   "metadata": {},
   "outputs": [],
   "source": [
    "X = df.drop('target', axis=1)\n",
    "y = df['target']"
   ]
  },
  {
   "cell_type": "code",
   "execution_count": 31,
   "id": "c8d11b91",
   "metadata": {},
   "outputs": [],
   "source": [
    "X_train, X_test, y_train, y_test = train_test_split(X, y, test_size=0.2, random_state=42)\n",
    "\n",
    "# cria um modelo random forest\n",
    "rf_model = RandomForestClassifier(n_estimators=100, random_state=42)\n",
    "\n",
    "# faz um fit do modelo com os dados de treino\n",
    "rf_model.fit(X_train, y_train)\n",
    "\n",
    "# predições do modelo\n",
    "y_pred = rf_model.predict(X_test)\n"
   ]
  },
  {
   "cell_type": "code",
   "execution_count": 32,
   "id": "fcfd9320",
   "metadata": {},
   "outputs": [
    {
     "data": {
      "image/png": "[encoded data removed]",
      "text/plain": [
       "<Figure size 800x600 with 2 Axes>"
      ]
     },
     "metadata": {},
     "output_type": "display_data"
    }
   ],
   "source": [
    "cm = confusion_matrix(y_test, y_pred)\n",
    "plt.figure(figsize=(8, 6))\n",
    "sns.heatmap(cm, annot=True, fmt='d', cmap='Blues')\n",
    "plt.title('Matriz de Confusão')\n",
    "plt.ylabel('Real')\n",
    "plt.xlabel('Previsão')\n",
    "plt.show()"
   ]
  },
  {
   "cell_type": "code",
   "execution_count": 33,
   "id": "64a5b870",
   "metadata": {},
   "outputs": [
    {
     "name": "stdout",
     "output_type": "stream",
     "text": [
      "Acurácia: 0.98\n",
      "Precisão: 0.97\n",
      "Revocação (Recall): 0.99\n",
      "f1-score: 0.98\n",
      "\n",
      "Relatório de Classificação:\n",
      "              precision    recall  f1-score   support\n",
      "\n",
      "           0       0.99      0.97      0.98        74\n",
      "           1       0.97      0.99      0.98        70\n",
      "\n",
      "    accuracy                           0.98       144\n",
      "   macro avg       0.98      0.98      0.98       144\n",
      "weighted avg       0.98      0.98      0.98       144\n",
      "\n"
     ]
    }
   ],
   "source": [
    "# Avalia o modelo\n",
    "tree_accuracy = accuracy_score(y_test, y_pred)\n",
    "tree_precision = precision_score(y_test, y_pred)  \n",
    "tree_recall = recall_score(y_test, y_pred)\n",
    "tree_f1 = f1_score(y_test, y_pred)\n",
    "print(f'Acurácia: {tree_accuracy:.2f}')\n",
    "print(f'Precisão: {tree_precision:.2f}')\n",
    "print(f'Revocação (Recall): {tree_recall:.2f}')\n",
    "print(f'f1-score: {tree_f1:.2f}')\n",
    "# relatório detalhado\n",
    "print(\"\\nRelatório de Classificação:\")\n",
    "print(classification_report(y_test, y_pred))"
   ]
  },
  {
   "cell_type": "markdown",
   "id": "19fbc29d",
   "metadata": {},
   "source": [
    "O modelo construído inicialmente parece muito bom, mas veremos abaixo como ele performa com novos dados (os de teste):"
   ]
  },
  {
   "cell_type": "code",
   "execution_count": 34,
   "id": "617423ff",
   "metadata": {},
   "outputs": [],
   "source": [
    "df_test = pd.read_csv('test_public.csv')"
   ]
  },
  {
   "cell_type": "code",
   "execution_count": 35,
   "id": "5a4bd01c",
   "metadata": {},
   "outputs": [],
   "source": [
    "X_test_2 = df_test.copy()\n",
    "\n",
    "y_pred_2 = rf_model.predict(X_test_2)"
   ]
  },
  {
   "cell_type": "code",
   "execution_count": 36,
   "id": "fcb78043",
   "metadata": {},
   "outputs": [],
   "source": [
    "df_resultados = pd.DataFrame({\n",
    "    \"id\": df_test[\"id\"],\n",
    "    \"target\": y_pred_2\n",
    "})\n",
    "\n",
    "# salva em CSV\n",
    "df_resultados.to_csv(\"previsoes.csv\", index=False)"
   ]
  },
  {
   "cell_type": "markdown",
   "id": "c514b9f9",
   "metadata": {},
   "source": [
    "Os resultados desse modelo foram muito bons e ficou com um score de 0.98214!"
   ]
  },
  {
   "cell_type": "code",
   "execution_count": 37,
   "id": "f888f3c2",
   "metadata": {},
   "outputs": [],
   "source": [
    "filename = 'finalized_model.sav'\n",
    "pickle.dump(rf_model, open(filename, 'wb'))"
   ]
  },
  {
   "cell_type": "code",
   "execution_count": 38,
   "id": "e7d4c6f0",
   "metadata": {},
   "outputs": [
    {
     "data": {
      "text/plain": [
       "\"\\nparam_grid = {'n_estimators': np.linspace(50, 500, 100).astype(int), 'criterion': ['gini', 'entropy']} \\ngrid = GridSearchCV(RandomForestClassifier(), param_grid, cv=5, verbose=3)\\ngrid.fit(X_train, y_train)\\nprint(grid.best_params_)\\nprint(grid.best_estimator_)\\n\""
      ]
     },
     "execution_count": 38,
     "metadata": {},
     "output_type": "execute_result"
    }
   ],
   "source": [
    "\"\"\"\n",
    "param_grid = {'n_estimators': np.linspace(50, 500, 100).astype(int), 'criterion': ['gini', 'entropy']} \n",
    "grid = GridSearchCV(RandomForestClassifier(), param_grid, cv=5, verbose=3)\n",
    "grid.fit(X_train, y_train)\n",
    "print(grid.best_params_)\n",
    "print(grid.best_estimator_)\n",
    "\"\"\""
   ]
  },
  {
   "cell_type": "code",
   "execution_count": 39,
   "id": "d546d6c9",
   "metadata": {},
   "outputs": [
    {
     "name": "stdout",
     "output_type": "stream",
     "text": [
      "🔹 Melhor threshold: 0.49\n",
      "🔹 F1-score no melhor threshold: 0.9859\n"
     ]
    },
    {
     "data": {
      "image/png": "[encoded data removed]",
      "text/plain": [
       "<Figure size 1000x600 with 1 Axes>"
      ]
     },
     "metadata": {},
     "output_type": "display_data"
    }
   ],
   "source": [
    "y_probs = rf_model.predict_proba(X_test)[:, 1]\n",
    "\n",
    "thresholds = np.arange(0.1, 0.91, 0.01)\n",
    "f1_scores = []\n",
    "precisions = []\n",
    "recalls = []\n",
    "\n",
    "for t in thresholds:\n",
    "    y_pred_thresh = (y_probs >= t).astype(int)\n",
    "    f1_scores.append(f1_score(y_test, y_pred_thresh))\n",
    "    precisions.append(precision_score(y_test, y_pred_thresh))\n",
    "    recalls.append(recall_score(y_test, y_pred_thresh))\n",
    "\n",
    "best_idx = np.argmax(f1_scores)\n",
    "best_thresh = thresholds[best_idx]\n",
    "best_f1 = f1_scores[best_idx]\n",
    "\n",
    "print(f\"🔹 Melhor threshold: {best_thresh:.2f}\")\n",
    "print(f\"🔹 F1-score no melhor threshold: {best_f1:.4f}\")\n",
    "\n",
    "# Plotando as curvas\n",
    "plt.figure(figsize=(10,6))\n",
    "plt.plot(thresholds, f1_scores, label=\"F1-score\", color=\"blue\")\n",
    "plt.plot(thresholds, precisions, label=\"Precisão\", color=\"green\", linestyle=\"--\")\n",
    "plt.plot(thresholds, recalls, label=\"Recall\", color=\"red\", linestyle=\"--\")\n",
    "plt.axvline(best_thresh, color=\"blue\", linestyle=\":\", label=f\"Melhor Threshold = {best_thresh:.2f}\")\n",
    "plt.title(\"F1-score, Precisão e Recall vs Threshold\")\n",
    "plt.xlabel(\"Threshold\")\n",
    "plt.ylabel(\"Score\")\n",
    "plt.legend()\n",
    "plt.show()\n"
   ]
  },
  {
   "cell_type": "markdown",
   "id": "137e0893",
   "metadata": {},
   "source": [
    "### 2.2. Regressão logística"
   ]
  },
  {
   "cell_type": "code",
   "execution_count": 40,
   "id": "382998f6",
   "metadata": {},
   "outputs": [
    {
     "name": "stderr",
     "output_type": "stream",
     "text": [
      "c:\\Users\\Inteli\\AppData\\Local\\Programs\\Python\\Python313\\Lib\\site-packages\\sklearn\\linear_model\\_logistic.py:473: ConvergenceWarning: lbfgs failed to converge after 1000 iteration(s) (status=1):\n",
      "STOP: TOTAL NO. OF ITERATIONS REACHED LIMIT\n",
      "\n",
      "Increase the number of iterations to improve the convergence (max_iter=1000).\n",
      "You might also want to scale the data as shown in:\n",
      "    https://scikit-learn.org/stable/modules/preprocessing.html\n",
      "Please also refer to the documentation for alternative solver options:\n",
      "    https://scikit-learn.org/stable/modules/linear_model.html#logistic-regression\n",
      "  n_iter_i = _check_optimize_result(\n"
     ]
    },
    {
     "data": {
      "text/html": [
       "<style>#sk-container-id-1 {\n",
       "  /* Definition of color scheme common for light and dark mode */\n",
       "  --sklearn-color-text: #000;\n",
       "  --sklearn-color-text-muted: #666;\n",
       "  --sklearn-color-line: gray;\n",
       "  /* Definition of color scheme for unfitted estimators */\n",
       "  --sklearn-color-unfitted-level-0: #fff5e6;\n",
       "  --sklearn-color-unfitted-level-1: #f6e4d2;\n",
       "  --sklearn-color-unfitted-level-2: #ffe0b3;\n",
       "  --sklearn-color-unfitted-level-3: chocolate;\n",
       "  /* Definition of color scheme for fitted estimators */\n",
       "  --sklearn-color-fitted-level-0: #f0f8ff;\n",
       "  --sklearn-color-fitted-level-1: #d4ebff;\n",
       "  --sklearn-color-fitted-level-2: #b3dbfd;\n",
       "  --sklearn-color-fitted-level-3: cornflowerblue;\n",
       "\n",
       "  /* Specific color for light theme */\n",
       "  --sklearn-color-text-on-default-background: var(--sg-text-color, var(--theme-code-foreground, var(--jp-content-font-color1, black)));\n",
       "  --sklearn-color-background: var(--sg-background-color, var(--theme-background, var(--jp-layout-color0, white)));\n",
       "  --sklearn-color-border-box: var(--sg-text-color, var(--theme-code-foreground, var(--jp-content-font-color1, black)));\n",
       "  --sklearn-color-icon: #696969;\n",
       "\n",
       "  @media (prefers-color-scheme: dark) {\n",
       "    /* Redefinition of color scheme for dark theme */\n",
       "    --sklearn-color-text-on-default-background: var(--sg-text-color, var(--theme-code-foreground, var(--jp-content-font-color1, white)));\n",
       "    --sklearn-color-background: var(--sg-background-color, var(--theme-background, var(--jp-layout-color0, #111)));\n",
       "    --sklearn-color-border-box: var(--sg-text-color, var(--theme-code-foreground, var(--jp-content-font-color1, white)));\n",
       "    --sklearn-color-icon: #878787;\n",
       "  }\n",
       "}\n",
       "\n",
       "#sk-container-id-1 {\n",
       "  color: var(--sklearn-color-text);\n",
       "}\n",
       "\n",
       "#sk-container-id-1 pre {\n",
       "  padding: 0;\n",
       "}\n",
       "\n",
       "#sk-container-id-1 input.sk-hidden--visually {\n",
       "  border: 0;\n",
       "  clip: rect(1px 1px 1px 1px);\n",
       "  clip: rect(1px, 1px, 1px, 1px);\n",
       "  height: 1px;\n",
       "  margin: -1px;\n",
       "  overflow: hidden;\n",
       "  padding: 0;\n",
       "  position: absolute;\n",
       "  width: 1px;\n",
       "}\n",
       "\n",
       "#sk-container-id-1 div.sk-dashed-wrapped {\n",
       "  border: 1px dashed var(--sklearn-color-line);\n",
       "  margin: 0 0.4em 0.5em 0.4em;\n",
       "  box-sizing: border-box;\n",
       "  padding-bottom: 0.4em;\n",
       "  background-color: var(--sklearn-color-background);\n",
       "}\n",
       "\n",
       "#sk-container-id-1 div.sk-container {\n",
       "  /* jupyter's `normalize.less` sets `[hidden] { display: none; }`\n",
       "     but bootstrap.min.css set `[hidden] { display: none !important; }`\n",
       "     so we also need the `!important` here to be able to override the\n",
       "     default hidden behavior on the sphinx rendered scikit-learn.org.\n",
       "     See: https://github.com/scikit-learn/scikit-learn/issues/21755 */\n",
       "  display: inline-block !important;\n",
       "  position: relative;\n",
       "}\n",
       "\n",
       "#sk-container-id-1 div.sk-text-repr-fallback {\n",
       "  display: none;\n",
       "}\n",
       "\n",
       "div.sk-parallel-item,\n",
       "div.sk-serial,\n",
       "div.sk-item {\n",
       "  /* draw centered vertical line to link estimators */\n",
       "  background-image: linear-gradient(var(--sklearn-color-text-on-default-background), var(--sklearn-color-text-on-default-background));\n",
       "  background-size: 2px 100%;\n",
       "  background-repeat: no-repeat;\n",
       "  background-position: center center;\n",
       "}\n",
       "\n",
       "/* Parallel-specific style estimator block */\n",
       "\n",
       "#sk-container-id-1 div.sk-parallel-item::after {\n",
       "  content: \"\";\n",
       "  width: 100%;\n",
       "  border-bottom: 2px solid var(--sklearn-color-text-on-default-background);\n",
       "  flex-grow: 1;\n",
       "}\n",
       "\n",
       "#sk-container-id-1 div.sk-parallel {\n",
       "  display: flex;\n",
       "  align-items: stretch;\n",
       "  justify-content: center;\n",
       "  background-color: var(--sklearn-color-background);\n",
       "  position: relative;\n",
       "}\n",
       "\n",
       "#sk-container-id-1 div.sk-parallel-item {\n",
       "  display: flex;\n",
       "  flex-direction: column;\n",
       "}\n",
       "\n",
       "#sk-container-id-1 div.sk-parallel-item:first-child::after {\n",
       "  align-self: flex-end;\n",
       "  width: 50%;\n",
       "}\n",
       "\n",
       "#sk-container-id-1 div.sk-parallel-item:last-child::after {\n",
       "  align-self: flex-start;\n",
       "  width: 50%;\n",
       "}\n",
       "\n",
       "#sk-container-id-1 div.sk-parallel-item:only-child::after {\n",
       "  width: 0;\n",
       "}\n",
       "\n",
       "/* Serial-specific style estimator block */\n",
       "\n",
       "#sk-container-id-1 div.sk-serial {\n",
       "  display: flex;\n",
       "  flex-direction: column;\n",
       "  align-items: center;\n",
       "  background-color: var(--sklearn-color-background);\n",
       "  padding-right: 1em;\n",
       "  padding-left: 1em;\n",
       "}\n",
       "\n",
       "\n",
       "/* Toggleable style: style used for estimator/Pipeline/ColumnTransformer box that is\n",
       "clickable and can be expanded/collapsed.\n",
       "- Pipeline and ColumnTransformer use this feature and define the default style\n",
       "- Estimators will overwrite some part of the style using the `sk-estimator` class\n",
       "*/\n",
       "\n",
       "/* Pipeline and ColumnTransformer style (default) */\n",
       "\n",
       "#sk-container-id-1 div.sk-toggleable {\n",
       "  /* Default theme specific background. It is overwritten whether we have a\n",
       "  specific estimator or a Pipeline/ColumnTransformer */\n",
       "  background-color: var(--sklearn-color-background);\n",
       "}\n",
       "\n",
       "/* Toggleable label */\n",
       "#sk-container-id-1 label.sk-toggleable__label {\n",
       "  cursor: pointer;\n",
       "  display: flex;\n",
       "  width: 100%;\n",
       "  margin-bottom: 0;\n",
       "  padding: 0.5em;\n",
       "  box-sizing: border-box;\n",
       "  text-align: center;\n",
       "  align-items: start;\n",
       "  justify-content: space-between;\n",
       "  gap: 0.5em;\n",
       "}\n",
       "\n",
       "#sk-container-id-1 label.sk-toggleable__label .caption {\n",
       "  font-size: 0.6rem;\n",
       "  font-weight: lighter;\n",
       "  color: var(--sklearn-color-text-muted);\n",
       "}\n",
       "\n",
       "#sk-container-id-1 label.sk-toggleable__label-arrow:before {\n",
       "  /* Arrow on the left of the label */\n",
       "  content: \"▸\";\n",
       "  float: left;\n",
       "  margin-right: 0.25em;\n",
       "  color: var(--sklearn-color-icon);\n",
       "}\n",
       "\n",
       "#sk-container-id-1 label.sk-toggleable__label-arrow:hover:before {\n",
       "  color: var(--sklearn-color-text);\n",
       "}\n",
       "\n",
       "/* Toggleable content - dropdown */\n",
       "\n",
       "#sk-container-id-1 div.sk-toggleable__content {\n",
       "  display: none;\n",
       "  text-align: left;\n",
       "  /* unfitted */\n",
       "  background-color: var(--sklearn-color-unfitted-level-0);\n",
       "}\n",
       "\n",
       "#sk-container-id-1 div.sk-toggleable__content.fitted {\n",
       "  /* fitted */\n",
       "  background-color: var(--sklearn-color-fitted-level-0);\n",
       "}\n",
       "\n",
       "#sk-container-id-1 div.sk-toggleable__content pre {\n",
       "  margin: 0.2em;\n",
       "  border-radius: 0.25em;\n",
       "  color: var(--sklearn-color-text);\n",
       "  /* unfitted */\n",
       "  background-color: var(--sklearn-color-unfitted-level-0);\n",
       "}\n",
       "\n",
       "#sk-container-id-1 div.sk-toggleable__content.fitted pre {\n",
       "  /* unfitted */\n",
       "  background-color: var(--sklearn-color-fitted-level-0);\n",
       "}\n",
       "\n",
       "#sk-container-id-1 input.sk-toggleable__control:checked~div.sk-toggleable__content {\n",
       "  /* Expand drop-down */\n",
       "  display: block;\n",
       "  width: 100%;\n",
       "  overflow: visible;\n",
       "}\n",
       "\n",
       "#sk-container-id-1 input.sk-toggleable__control:checked~label.sk-toggleable__label-arrow:before {\n",
       "  content: \"▾\";\n",
       "}\n",
       "\n",
       "/* Pipeline/ColumnTransformer-specific style */\n",
       "\n",
       "#sk-container-id-1 div.sk-label input.sk-toggleable__control:checked~label.sk-toggleable__label {\n",
       "  color: var(--sklearn-color-text);\n",
       "  background-color: var(--sklearn-color-unfitted-level-2);\n",
       "}\n",
       "\n",
       "#sk-container-id-1 div.sk-label.fitted input.sk-toggleable__control:checked~label.sk-toggleable__label {\n",
       "  background-color: var(--sklearn-color-fitted-level-2);\n",
       "}\n",
       "\n",
       "/* Estimator-specific style */\n",
       "\n",
       "/* Colorize estimator box */\n",
       "#sk-container-id-1 div.sk-estimator input.sk-toggleable__control:checked~label.sk-toggleable__label {\n",
       "  /* unfitted */\n",
       "  background-color: var(--sklearn-color-unfitted-level-2);\n",
       "}\n",
       "\n",
       "#sk-container-id-1 div.sk-estimator.fitted input.sk-toggleable__control:checked~label.sk-toggleable__label {\n",
       "  /* fitted */\n",
       "  background-color: var(--sklearn-color-fitted-level-2);\n",
       "}\n",
       "\n",
       "#sk-container-id-1 div.sk-label label.sk-toggleable__label,\n",
       "#sk-container-id-1 div.sk-label label {\n",
       "  /* The background is the default theme color */\n",
       "  color: var(--sklearn-color-text-on-default-background);\n",
       "}\n",
       "\n",
       "/* On hover, darken the color of the background */\n",
       "#sk-container-id-1 div.sk-label:hover label.sk-toggleable__label {\n",
       "  color: var(--sklearn-color-text);\n",
       "  background-color: var(--sklearn-color-unfitted-level-2);\n",
       "}\n",
       "\n",
       "/* Label box, darken color on hover, fitted */\n",
       "#sk-container-id-1 div.sk-label.fitted:hover label.sk-toggleable__label.fitted {\n",
       "  color: var(--sklearn-color-text);\n",
       "  background-color: var(--sklearn-color-fitted-level-2);\n",
       "}\n",
       "\n",
       "/* Estimator label */\n",
       "\n",
       "#sk-container-id-1 div.sk-label label {\n",
       "  font-family: monospace;\n",
       "  font-weight: bold;\n",
       "  display: inline-block;\n",
       "  line-height: 1.2em;\n",
       "}\n",
       "\n",
       "#sk-container-id-1 div.sk-label-container {\n",
       "  text-align: center;\n",
       "}\n",
       "\n",
       "/* Estimator-specific */\n",
       "#sk-container-id-1 div.sk-estimator {\n",
       "  font-family: monospace;\n",
       "  border: 1px dotted var(--sklearn-color-border-box);\n",
       "  border-radius: 0.25em;\n",
       "  box-sizing: border-box;\n",
       "  margin-bottom: 0.5em;\n",
       "  /* unfitted */\n",
       "  background-color: var(--sklearn-color-unfitted-level-0);\n",
       "}\n",
       "\n",
       "#sk-container-id-1 div.sk-estimator.fitted {\n",
       "  /* fitted */\n",
       "  background-color: var(--sklearn-color-fitted-level-0);\n",
       "}\n",
       "\n",
       "/* on hover */\n",
       "#sk-container-id-1 div.sk-estimator:hover {\n",
       "  /* unfitted */\n",
       "  background-color: var(--sklearn-color-unfitted-level-2);\n",
       "}\n",
       "\n",
       "#sk-container-id-1 div.sk-estimator.fitted:hover {\n",
       "  /* fitted */\n",
       "  background-color: var(--sklearn-color-fitted-level-2);\n",
       "}\n",
       "\n",
       "/* Specification for estimator info (e.g. \"i\" and \"?\") */\n",
       "\n",
       "/* Common style for \"i\" and \"?\" */\n",
       "\n",
       ".sk-estimator-doc-link,\n",
       "a:link.sk-estimator-doc-link,\n",
       "a:visited.sk-estimator-doc-link {\n",
       "  float: right;\n",
       "  font-size: smaller;\n",
       "  line-height: 1em;\n",
       "  font-family: monospace;\n",
       "  background-color: var(--sklearn-color-background);\n",
       "  border-radius: 1em;\n",
       "  height: 1em;\n",
       "  width: 1em;\n",
       "  text-decoration: none !important;\n",
       "  margin-left: 0.5em;\n",
       "  text-align: center;\n",
       "  /* unfitted */\n",
       "  border: var(--sklearn-color-unfitted-level-1) 1pt solid;\n",
       "  color: var(--sklearn-color-unfitted-level-1);\n",
       "}\n",
       "\n",
       ".sk-estimator-doc-link.fitted,\n",
       "a:link.sk-estimator-doc-link.fitted,\n",
       "a:visited.sk-estimator-doc-link.fitted {\n",
       "  /* fitted */\n",
       "  border: var(--sklearn-color-fitted-level-1) 1pt solid;\n",
       "  color: var(--sklearn-color-fitted-level-1);\n",
       "}\n",
       "\n",
       "/* On hover */\n",
       "div.sk-estimator:hover .sk-estimator-doc-link:hover,\n",
       ".sk-estimator-doc-link:hover,\n",
       "div.sk-label-container:hover .sk-estimator-doc-link:hover,\n",
       ".sk-estimator-doc-link:hover {\n",
       "  /* unfitted */\n",
       "  background-color: var(--sklearn-color-unfitted-level-3);\n",
       "  color: var(--sklearn-color-background);\n",
       "  text-decoration: none;\n",
       "}\n",
       "\n",
       "div.sk-estimator.fitted:hover .sk-estimator-doc-link.fitted:hover,\n",
       ".sk-estimator-doc-link.fitted:hover,\n",
       "div.sk-label-container:hover .sk-estimator-doc-link.fitted:hover,\n",
       ".sk-estimator-doc-link.fitted:hover {\n",
       "  /* fitted */\n",
       "  background-color: var(--sklearn-color-fitted-level-3);\n",
       "  color: var(--sklearn-color-background);\n",
       "  text-decoration: none;\n",
       "}\n",
       "\n",
       "/* Span, style for the box shown on hovering the info icon */\n",
       ".sk-estimator-doc-link span {\n",
       "  display: none;\n",
       "  z-index: 9999;\n",
       "  position: relative;\n",
       "  font-weight: normal;\n",
       "  right: .2ex;\n",
       "  padding: .5ex;\n",
       "  margin: .5ex;\n",
       "  width: min-content;\n",
       "  min-width: 20ex;\n",
       "  max-width: 50ex;\n",
       "  color: var(--sklearn-color-text);\n",
       "  box-shadow: 2pt 2pt 4pt #999;\n",
       "  /* unfitted */\n",
       "  background: var(--sklearn-color-unfitted-level-0);\n",
       "  border: .5pt solid var(--sklearn-color-unfitted-level-3);\n",
       "}\n",
       "\n",
       ".sk-estimator-doc-link.fitted span {\n",
       "  /* fitted */\n",
       "  background: var(--sklearn-color-fitted-level-0);\n",
       "  border: var(--sklearn-color-fitted-level-3);\n",
       "}\n",
       "\n",
       ".sk-estimator-doc-link:hover span {\n",
       "  display: block;\n",
       "}\n",
       "\n",
       "/* \"?\"-specific style due to the `<a>` HTML tag */\n",
       "\n",
       "#sk-container-id-1 a.estimator_doc_link {\n",
       "  float: right;\n",
       "  font-size: 1rem;\n",
       "  line-height: 1em;\n",
       "  font-family: monospace;\n",
       "  background-color: var(--sklearn-color-background);\n",
       "  border-radius: 1rem;\n",
       "  height: 1rem;\n",
       "  width: 1rem;\n",
       "  text-decoration: none;\n",
       "  /* unfitted */\n",
       "  color: var(--sklearn-color-unfitted-level-1);\n",
       "  border: var(--sklearn-color-unfitted-level-1) 1pt solid;\n",
       "}\n",
       "\n",
       "#sk-container-id-1 a.estimator_doc_link.fitted {\n",
       "  /* fitted */\n",
       "  border: var(--sklearn-color-fitted-level-1) 1pt solid;\n",
       "  color: var(--sklearn-color-fitted-level-1);\n",
       "}\n",
       "\n",
       "/* On hover */\n",
       "#sk-container-id-1 a.estimator_doc_link:hover {\n",
       "  /* unfitted */\n",
       "  background-color: var(--sklearn-color-unfitted-level-3);\n",
       "  color: var(--sklearn-color-background);\n",
       "  text-decoration: none;\n",
       "}\n",
       "\n",
       "#sk-container-id-1 a.estimator_doc_link.fitted:hover {\n",
       "  /* fitted */\n",
       "  background-color: var(--sklearn-color-fitted-level-3);\n",
       "}\n",
       "\n",
       ".estimator-table summary {\n",
       "    padding: .5rem;\n",
       "    font-family: monospace;\n",
       "    cursor: pointer;\n",
       "}\n",
       "\n",
       ".estimator-table details[open] {\n",
       "    padding-left: 0.1rem;\n",
       "    padding-right: 0.1rem;\n",
       "    padding-bottom: 0.3rem;\n",
       "}\n",
       "\n",
       ".estimator-table .parameters-table {\n",
       "    margin-left: auto !important;\n",
       "    margin-right: auto !important;\n",
       "}\n",
       "\n",
       ".estimator-table .parameters-table tr:nth-child(odd) {\n",
       "    background-color: #fff;\n",
       "}\n",
       "\n",
       ".estimator-table .parameters-table tr:nth-child(even) {\n",
       "    background-color: #f6f6f6;\n",
       "}\n",
       "\n",
       ".estimator-table .parameters-table tr:hover {\n",
       "    background-color: #e0e0e0;\n",
       "}\n",
       "\n",
       ".estimator-table table td {\n",
       "    border: 1px solid rgba(106, 105, 104, 0.232);\n",
       "}\n",
       "\n",
       ".user-set td {\n",
       "    color:rgb(255, 94, 0);\n",
       "    text-align: left;\n",
       "}\n",
       "\n",
       ".user-set td.value pre {\n",
       "    color:rgb(255, 94, 0) !important;\n",
       "    background-color: transparent !important;\n",
       "}\n",
       "\n",
       ".default td {\n",
       "    color: black;\n",
       "    text-align: left;\n",
       "}\n",
       "\n",
       ".user-set td i,\n",
       ".default td i {\n",
       "    color: black;\n",
       "}\n",
       "\n",
       ".copy-paste-icon {\n",
       "    background-image: url(data:image/svg+xml;base64,PHN2ZyB4bWxucz0iaHR0cDovL3d3dy53My5vcmcvMjAwMC9zdmciIHZpZXdCb3g9IjAgMCA0NDggNTEyIj48IS0tIUZvbnQgQXdlc29tZSBGcmVlIDYuNy4yIGJ5IEBmb250YXdlc29tZSAtIGh0dHBzOi8vZm9udGF3ZXNvbWUuY29tIExpY2Vuc2UgLSBodHRwczovL2ZvbnRhd2Vzb21lLmNvbS9saWNlbnNlL2ZyZWUgQ29weXJpZ2h0IDIwMjUgRm9udGljb25zLCBJbmMuLS0+PHBhdGggZD0iTTIwOCAwTDMzMi4xIDBjMTIuNyAwIDI0LjkgNS4xIDMzLjkgMTQuMWw2Ny45IDY3LjljOSA5IDE0LjEgMjEuMiAxNC4xIDMzLjlMNDQ4IDMzNmMwIDI2LjUtMjEuNSA0OC00OCA0OGwtMTkyIDBjLTI2LjUgMC00OC0yMS41LTQ4LTQ4bDAtMjg4YzAtMjYuNSAyMS41LTQ4IDQ4LTQ4ek00OCAxMjhsODAgMCAwIDY0LTY0IDAgMCAyNTYgMTkyIDAgMC0zMiA2NCAwIDAgNDhjMCAyNi41LTIxLjUgNDgtNDggNDhMNDggNTEyYy0yNi41IDAtNDgtMjEuNS00OC00OEwwIDE3NmMwLTI2LjUgMjEuNS00OCA0OC00OHoiLz48L3N2Zz4=);\n",
       "    background-repeat: no-repeat;\n",
       "    background-size: 14px 14px;\n",
       "    background-position: 0;\n",
       "    display: inline-block;\n",
       "    width: 14px;\n",
       "    height: 14px;\n",
       "    cursor: pointer;\n",
       "}\n",
       "</style><body><div id=\"sk-container-id-1\" class=\"sk-top-container\"><div class=\"sk-text-repr-fallback\"><pre>LogisticRegression(max_iter=1000)</pre><b>In a Jupyter environment, please rerun this cell to show the HTML representation or trust the notebook. <br />On GitHub, the HTML representation is unable to render, please try loading this page with nbviewer.org.</b></div><div class=\"sk-container\" hidden><div class=\"sk-item\"><div class=\"sk-estimator fitted sk-toggleable\"><input class=\"sk-toggleable__control sk-hidden--visually\" id=\"sk-estimator-id-1\" type=\"checkbox\" checked><label for=\"sk-estimator-id-1\" class=\"sk-toggleable__label fitted sk-toggleable__label-arrow\"><div><div>LogisticRegression</div></div><div><a class=\"sk-estimator-doc-link fitted\" rel=\"noreferrer\" target=\"_blank\" href=\"https://scikit-learn.org/1.7/modules/generated/sklearn.linear_model.LogisticRegression.html\">?<span>Documentation for LogisticRegression</span></a><span class=\"sk-estimator-doc-link fitted\">i<span>Fitted</span></span></div></label><div class=\"sk-toggleable__content fitted\" data-param-prefix=\"\">\n",
       "        <div class=\"estimator-table\">\n",
       "            <details>\n",
       "                <summary>Parameters</summary>\n",
       "                <table class=\"parameters-table\">\n",
       "                  <tbody>\n",
       "                    \n",
       "        <tr class=\"default\">\n",
       "            <td><i class=\"copy-paste-icon\"\n",
       "                 onclick=\"copyToClipboard('penalty',\n",
       "                          this.parentElement.nextElementSibling)\"\n",
       "            ></i></td>\n",
       "            <td class=\"param\">penalty&nbsp;</td>\n",
       "            <td class=\"value\">&#x27;l2&#x27;</td>\n",
       "        </tr>\n",
       "    \n",
       "\n",
       "        <tr class=\"default\">\n",
       "            <td><i class=\"copy-paste-icon\"\n",
       "                 onclick=\"copyToClipboard('dual',\n",
       "                          this.parentElement.nextElementSibling)\"\n",
       "            ></i></td>\n",
       "            <td class=\"param\">dual&nbsp;</td>\n",
       "            <td class=\"value\">False</td>\n",
       "        </tr>\n",
       "    \n",
       "\n",
       "        <tr class=\"default\">\n",
       "            <td><i class=\"copy-paste-icon\"\n",
       "                 onclick=\"copyToClipboard('tol',\n",
       "                          this.parentElement.nextElementSibling)\"\n",
       "            ></i></td>\n",
       "            <td class=\"param\">tol&nbsp;</td>\n",
       "            <td class=\"value\">0.0001</td>\n",
       "        </tr>\n",
       "    \n",
       "\n",
       "        <tr class=\"default\">\n",
       "            <td><i class=\"copy-paste-icon\"\n",
       "                 onclick=\"copyToClipboard('C',\n",
       "                          this.parentElement.nextElementSibling)\"\n",
       "            ></i></td>\n",
       "            <td class=\"param\">C&nbsp;</td>\n",
       "            <td class=\"value\">1.0</td>\n",
       "        </tr>\n",
       "    \n",
       "\n",
       "        <tr class=\"default\">\n",
       "            <td><i class=\"copy-paste-icon\"\n",
       "                 onclick=\"copyToClipboard('fit_intercept',\n",
       "                          this.parentElement.nextElementSibling)\"\n",
       "            ></i></td>\n",
       "            <td class=\"param\">fit_intercept&nbsp;</td>\n",
       "            <td class=\"value\">True</td>\n",
       "        </tr>\n",
       "    \n",
       "\n",
       "        <tr class=\"default\">\n",
       "            <td><i class=\"copy-paste-icon\"\n",
       "                 onclick=\"copyToClipboard('intercept_scaling',\n",
       "                          this.parentElement.nextElementSibling)\"\n",
       "            ></i></td>\n",
       "            <td class=\"param\">intercept_scaling&nbsp;</td>\n",
       "            <td class=\"value\">1</td>\n",
       "        </tr>\n",
       "    \n",
       "\n",
       "        <tr class=\"default\">\n",
       "            <td><i class=\"copy-paste-icon\"\n",
       "                 onclick=\"copyToClipboard('class_weight',\n",
       "                          this.parentElement.nextElementSibling)\"\n",
       "            ></i></td>\n",
       "            <td class=\"param\">class_weight&nbsp;</td>\n",
       "            <td class=\"value\">None</td>\n",
       "        </tr>\n",
       "    \n",
       "\n",
       "        <tr class=\"default\">\n",
       "            <td><i class=\"copy-paste-icon\"\n",
       "                 onclick=\"copyToClipboard('random_state',\n",
       "                          this.parentElement.nextElementSibling)\"\n",
       "            ></i></td>\n",
       "            <td class=\"param\">random_state&nbsp;</td>\n",
       "            <td class=\"value\">None</td>\n",
       "        </tr>\n",
       "    \n",
       "\n",
       "        <tr class=\"default\">\n",
       "            <td><i class=\"copy-paste-icon\"\n",
       "                 onclick=\"copyToClipboard('solver',\n",
       "                          this.parentElement.nextElementSibling)\"\n",
       "            ></i></td>\n",
       "            <td class=\"param\">solver&nbsp;</td>\n",
       "            <td class=\"value\">&#x27;lbfgs&#x27;</td>\n",
       "        </tr>\n",
       "    \n",
       "\n",
       "        <tr class=\"user-set\">\n",
       "            <td><i class=\"copy-paste-icon\"\n",
       "                 onclick=\"copyToClipboard('max_iter',\n",
       "                          this.parentElement.nextElementSibling)\"\n",
       "            ></i></td>\n",
       "            <td class=\"param\">max_iter&nbsp;</td>\n",
       "            <td class=\"value\">1000</td>\n",
       "        </tr>\n",
       "    \n",
       "\n",
       "        <tr class=\"default\">\n",
       "            <td><i class=\"copy-paste-icon\"\n",
       "                 onclick=\"copyToClipboard('multi_class',\n",
       "                          this.parentElement.nextElementSibling)\"\n",
       "            ></i></td>\n",
       "            <td class=\"param\">multi_class&nbsp;</td>\n",
       "            <td class=\"value\">&#x27;deprecated&#x27;</td>\n",
       "        </tr>\n",
       "    \n",
       "\n",
       "        <tr class=\"default\">\n",
       "            <td><i class=\"copy-paste-icon\"\n",
       "                 onclick=\"copyToClipboard('verbose',\n",
       "                          this.parentElement.nextElementSibling)\"\n",
       "            ></i></td>\n",
       "            <td class=\"param\">verbose&nbsp;</td>\n",
       "            <td class=\"value\">0</td>\n",
       "        </tr>\n",
       "    \n",
       "\n",
       "        <tr class=\"default\">\n",
       "            <td><i class=\"copy-paste-icon\"\n",
       "                 onclick=\"copyToClipboard('warm_start',\n",
       "                          this.parentElement.nextElementSibling)\"\n",
       "            ></i></td>\n",
       "            <td class=\"param\">warm_start&nbsp;</td>\n",
       "            <td class=\"value\">False</td>\n",
       "        </tr>\n",
       "    \n",
       "\n",
       "        <tr class=\"default\">\n",
       "            <td><i class=\"copy-paste-icon\"\n",
       "                 onclick=\"copyToClipboard('n_jobs',\n",
       "                          this.parentElement.nextElementSibling)\"\n",
       "            ></i></td>\n",
       "            <td class=\"param\">n_jobs&nbsp;</td>\n",
       "            <td class=\"value\">None</td>\n",
       "        </tr>\n",
       "    \n",
       "\n",
       "        <tr class=\"default\">\n",
       "            <td><i class=\"copy-paste-icon\"\n",
       "                 onclick=\"copyToClipboard('l1_ratio',\n",
       "                          this.parentElement.nextElementSibling)\"\n",
       "            ></i></td>\n",
       "            <td class=\"param\">l1_ratio&nbsp;</td>\n",
       "            <td class=\"value\">None</td>\n",
       "        </tr>\n",
       "    \n",
       "                  </tbody>\n",
       "                </table>\n",
       "            </details>\n",
       "        </div>\n",
       "    </div></div></div></div></div><script>function copyToClipboard(text, element) {\n",
       "    // Get the parameter prefix from the closest toggleable content\n",
       "    const toggleableContent = element.closest('.sk-toggleable__content');\n",
       "    const paramPrefix = toggleableContent ? toggleableContent.dataset.paramPrefix : '';\n",
       "    const fullParamName = paramPrefix ? `${paramPrefix}${text}` : text;\n",
       "\n",
       "    const originalStyle = element.style;\n",
       "    const computedStyle = window.getComputedStyle(element);\n",
       "    const originalWidth = computedStyle.width;\n",
       "    const originalHTML = element.innerHTML.replace('Copied!', '');\n",
       "\n",
       "    navigator.clipboard.writeText(fullParamName)\n",
       "        .then(() => {\n",
       "            element.style.width = originalWidth;\n",
       "            element.style.color = 'green';\n",
       "            element.innerHTML = \"Copied!\";\n",
       "\n",
       "            setTimeout(() => {\n",
       "                element.innerHTML = originalHTML;\n",
       "                element.style = originalStyle;\n",
       "            }, 2000);\n",
       "        })\n",
       "        .catch(err => {\n",
       "            console.error('Failed to copy:', err);\n",
       "            element.style.color = 'red';\n",
       "            element.innerHTML = \"Failed!\";\n",
       "            setTimeout(() => {\n",
       "                element.innerHTML = originalHTML;\n",
       "                element.style = originalStyle;\n",
       "            }, 2000);\n",
       "        });\n",
       "    return false;\n",
       "}\n",
       "\n",
       "document.querySelectorAll('.fa-regular.fa-copy').forEach(function(element) {\n",
       "    const toggleableContent = element.closest('.sk-toggleable__content');\n",
       "    const paramPrefix = toggleableContent ? toggleableContent.dataset.paramPrefix : '';\n",
       "    const paramName = element.parentElement.nextElementSibling.textContent.trim();\n",
       "    const fullParamName = paramPrefix ? `${paramPrefix}${paramName}` : paramName;\n",
       "\n",
       "    element.setAttribute('title', fullParamName);\n",
       "});\n",
       "</script></body>"
      ],
      "text/plain": [
       "LogisticRegression(max_iter=1000)"
      ]
     },
     "execution_count": 40,
     "metadata": {},
     "output_type": "execute_result"
    }
   ],
   "source": [
    "rl_model = LogisticRegression(max_iter=1000)\n",
    "rl_model.fit(X_train, y_train)"
   ]
  },
  {
   "cell_type": "code",
   "execution_count": 41,
   "id": "8aeb893e",
   "metadata": {},
   "outputs": [],
   "source": [
    "y_pred = rl_model.predict(X_test)"
   ]
  },
  {
   "cell_type": "code",
   "execution_count": 42,
   "id": "be06d7f6",
   "metadata": {},
   "outputs": [
    {
     "data": {
      "image/png": "[encoded data removed]",
      "text/plain": [
       "<Figure size 800x600 with 2 Axes>"
      ]
     },
     "metadata": {},
     "output_type": "display_data"
    }
   ],
   "source": [
    "plt.figure(figsize=(8, 6))\n",
    "sns.heatmap(confusion_matrix(y_test, y_pred), annot=True, fmt='d', cmap='Blues')\n",
    "plt.title('Matriz de Confusão')\n",
    "plt.ylabel('Real')\n",
    "plt.xlabel('Previsão')\n",
    "plt.show()"
   ]
  },
  {
   "cell_type": "code",
   "execution_count": 43,
   "id": "7e19ee6c",
   "metadata": {},
   "outputs": [
    {
     "name": "stdout",
     "output_type": "stream",
     "text": [
      "Acurácia: 0.85\n",
      "Precisão: 0.83\n",
      "Recall: 0.89\n",
      "F1-score: 0.86\n",
      "\n",
      "Relatório de Classificação:\n",
      "              precision    recall  f1-score   support\n",
      "\n",
      "           0       0.88      0.82      0.85        74\n",
      "           1       0.83      0.89      0.86        70\n",
      "\n",
      "    accuracy                           0.85       144\n",
      "   macro avg       0.86      0.86      0.85       144\n",
      "weighted avg       0.86      0.85      0.85       144\n",
      "\n"
     ]
    }
   ],
   "source": [
    "acc = accuracy_score(y_test, y_pred)\n",
    "prec = precision_score(y_test, y_pred)\n",
    "rec = recall_score(y_test, y_pred)\n",
    "f1 = f1_score(y_test, y_pred)\n",
    "\n",
    "print(f\"Acurácia: {acc:.2f}\")\n",
    "print(f\"Precisão: {prec:.2f}\")\n",
    "print(f\"Recall: {rec:.2f}\")\n",
    "print(f\"F1-score: {f1:.2f}\")\n",
    "\n",
    "# relatório detalhado\n",
    "print(\"\\nRelatório de Classificação:\")\n",
    "print(classification_report(y_test, y_pred))"
   ]
  },
  {
   "cell_type": "code",
   "execution_count": 44,
   "id": "e4b10319",
   "metadata": {},
   "outputs": [],
   "source": [
    "y_pred_3 = rl_model.predict(X_test_2)"
   ]
  },
  {
   "cell_type": "code",
   "execution_count": 45,
   "id": "43fed9a0",
   "metadata": {},
   "outputs": [],
   "source": [
    "df_resultados = pd.DataFrame({\n",
    "    \"id\": df_test[\"id\"],\n",
    "    \"target\": y_pred_3\n",
    "})\n",
    "\n",
    "# salva em CSV\n",
    "df_resultados.to_csv(\"previsoes3.csv\", index=False)"
   ]
  },
  {
   "cell_type": "markdown",
   "id": "2368585f",
   "metadata": {},
   "source": [
    "Os resultados desse modelo não foram tão bons quanto o primeiro e ficou com um score de 0.84297"
   ]
  },
  {
   "cell_type": "markdown",
   "id": "e5e6cfe0",
   "metadata": {},
   "source": [
    "### 2.3. Decision Tree Classifier"
   ]
  },
  {
   "cell_type": "code",
   "execution_count": 46,
   "id": "37c8abaf",
   "metadata": {},
   "outputs": [],
   "source": [
    "dt_model = DecisionTreeClassifier(\n",
    "    criterion='gini',\n",
    "    max_depth=5,\n",
    "    min_samples_split=5,\n",
    "    random_state=42\n",
    ")"
   ]
  },
  {
   "cell_type": "code",
   "execution_count": 47,
   "id": "f75a2ad1",
   "metadata": {},
   "outputs": [
    {
     "name": "stdout",
     "output_type": "stream",
     "text": [
      "Acurácia: 0.94\n",
      "Precisão: 0.92\n",
      "Recall: 0.96\n",
      "F1-score: 0.94\n",
      "\n",
      "Relatório de Classificação:\n",
      "              precision    recall  f1-score   support\n",
      "\n",
      "           0       0.96      0.92      0.94        74\n",
      "           1       0.92      0.96      0.94        70\n",
      "\n",
      "    accuracy                           0.94       144\n",
      "   macro avg       0.94      0.94      0.94       144\n",
      "weighted avg       0.94      0.94      0.94       144\n",
      "\n"
     ]
    }
   ],
   "source": [
    "# treina o modelo\n",
    "dt_model.fit(X_train, y_train)\n",
    "\n",
    "# previsões\n",
    "y_pred = dt_model.predict(X_test)\n",
    "\n",
    "# métricas\n",
    "acc = accuracy_score(y_test, y_pred)\n",
    "prec = precision_score(y_test, y_pred)\n",
    "rec = recall_score(y_test, y_pred)\n",
    "f1 = f1_score(y_test, y_pred)\n",
    "\n",
    "print(f\"Acurácia: {acc:.2f}\")\n",
    "print(f\"Precisão: {prec:.2f}\")\n",
    "print(f\"Recall: {rec:.2f}\")\n",
    "print(f\"F1-score: {f1:.2f}\")\n",
    "\n",
    "# relatório detalhado\n",
    "print(\"\\nRelatório de Classificação:\")\n",
    "print(classification_report(y_test, y_pred))"
   ]
  },
  {
   "cell_type": "code",
   "execution_count": 48,
   "id": "11e63448",
   "metadata": {},
   "outputs": [
    {
     "data": {
      "image/png": "[encoded data removed]",
      "text/plain": [
       "<Figure size 800x600 with 2 Axes>"
      ]
     },
     "metadata": {},
     "output_type": "display_data"
    }
   ],
   "source": [
    "plt.figure(figsize=(8, 6))\n",
    "sns.heatmap(confusion_matrix(y_test, y_pred), annot=True, fmt='d', cmap='Blues')\n",
    "plt.title('Matriz de Confusão')\n",
    "plt.ylabel('Real')\n",
    "plt.xlabel('Previsão')\n",
    "plt.show()"
   ]
  },
  {
   "cell_type": "code",
   "execution_count": 49,
   "id": "35e6873c",
   "metadata": {},
   "outputs": [],
   "source": [
    "y_pred_4 = dt_model.predict(X_test_2)"
   ]
  },
  {
   "cell_type": "code",
   "execution_count": 50,
   "id": "3cbebf70",
   "metadata": {},
   "outputs": [],
   "source": [
    "df_resultados = pd.DataFrame({\n",
    "    \"id\": df_test[\"id\"],\n",
    "    \"target\": y_pred_4\n",
    "})\n",
    "\n",
    "# salva em CSV\n",
    "df_resultados.to_csv(\"previsoes4.csv\", index=False)"
   ]
  },
  {
   "cell_type": "markdown",
   "id": "34fb2b9a",
   "metadata": {},
   "source": [
    "### 2.4. Support Vector Machine (SVM)"
   ]
  },
  {
   "cell_type": "code",
   "execution_count": 51,
   "id": "3c3f7cd5",
   "metadata": {},
   "outputs": [
    {
     "name": "stdout",
     "output_type": "stream",
     "text": [
      "Acurácia: 0.59\n",
      "Precisão: 0.56\n",
      "Recall: 0.79\n",
      "F1-score: 0.65\n",
      "\n",
      "Relatório de Classificação:\n",
      "              precision    recall  f1-score   support\n",
      "\n",
      "           0       0.67      0.41      0.50        74\n",
      "           1       0.56      0.79      0.65        70\n",
      "\n",
      "    accuracy                           0.59       144\n",
      "   macro avg       0.61      0.60      0.58       144\n",
      "weighted avg       0.61      0.59      0.58       144\n",
      "\n"
     ]
    }
   ],
   "source": [
    "svm_model = SVC(\n",
    "    kernel='rbf',\n",
    "    probability=True,\n",
    "    C=1.0,\n",
    "    gamma='scale',\n",
    "    random_state=42\n",
    ")\n",
    "\n",
    "svm_model.fit(X_train, y_train)\n",
    "\n",
    "# previsões\n",
    "y_pred = svm_model.predict(X_test)\n",
    "\n",
    "# métricas\n",
    "acc = accuracy_score(y_test, y_pred)\n",
    "prec = precision_score(y_test, y_pred)\n",
    "rec = recall_score(y_test, y_pred)\n",
    "f1 = f1_score(y_test, y_pred)\n",
    "\n",
    "print(f\"Acurácia: {acc:.2f}\")\n",
    "print(f\"Precisão: {prec:.2f}\")\n",
    "print(f\"Recall: {rec:.2f}\")\n",
    "print(f\"F1-score: {f1:.2f}\")\n",
    "\n",
    "\n",
    "# relatório detalhado\n",
    "print(\"\\nRelatório de Classificação:\")\n",
    "print(classification_report(y_test, y_pred))"
   ]
  },
  {
   "cell_type": "code",
   "execution_count": 52,
   "id": "4452abb2",
   "metadata": {},
   "outputs": [
    {
     "data": {
      "image/png": "[encoded data removed]",
      "text/plain": [
       "<Figure size 800x600 with 2 Axes>"
      ]
     },
     "metadata": {},
     "output_type": "display_data"
    }
   ],
   "source": [
    "plt.figure(figsize=(8, 6))\n",
    "sns.heatmap(confusion_matrix(y_test, y_pred), annot=True, fmt='d', cmap='Blues')\n",
    "plt.title('Matriz de Confusão')\n",
    "plt.ylabel('Real')\n",
    "plt.xlabel('Previsão')\n",
    "plt.show()"
   ]
  },
  {
   "cell_type": "markdown",
   "id": "fc001e28",
   "metadata": {},
   "source": [
    "### 2.5. K-Nearest Neighbors (KNN)"
   ]
  },
  {
   "cell_type": "code",
   "execution_count": 53,
   "id": "69fea712",
   "metadata": {},
   "outputs": [
    {
     "name": "stdout",
     "output_type": "stream",
     "text": [
      "Acurácia: 0.89\n",
      "Precisão: 0.85\n",
      "Recall: 0.94\n",
      "F1-score: 0.89\n",
      "\n",
      "Relatório de Classificação:\n",
      "              precision    recall  f1-score   support\n",
      "\n",
      "           0       0.94      0.84      0.89        74\n",
      "           1       0.85      0.94      0.89        70\n",
      "\n",
      "    accuracy                           0.89       144\n",
      "   macro avg       0.89      0.89      0.89       144\n",
      "weighted avg       0.89      0.89      0.89       144\n",
      "\n"
     ]
    }
   ],
   "source": [
    "knn_model = make_pipeline(\n",
    "    StandardScaler(),\n",
    "    KNeighborsClassifier(\n",
    "        n_neighbors=5,   # número de vizinhos\n",
    "        weights='uniform', # 'uniform' ou 'distance'\n",
    "        metric='minkowski' # distância euclidiana por padrão\n",
    "    )\n",
    ")\n",
    "\n",
    "# treina o modelo\n",
    "knn_model.fit(X_train, y_train)\n",
    "\n",
    "# previsões\n",
    "y_pred = knn_model.predict(X_test)\n",
    "\n",
    "# métricas\n",
    "acc = accuracy_score(y_test, y_pred)\n",
    "prec = precision_score(y_test, y_pred)\n",
    "rec = recall_score(y_test, y_pred)\n",
    "f1 = f1_score(y_test, y_pred)\n",
    "\n",
    "print(f\"Acurácia: {acc:.2f}\")\n",
    "print(f\"Precisão: {prec:.2f}\")\n",
    "print(f\"Recall: {rec:.2f}\")\n",
    "print(f\"F1-score: {f1:.2f}\")\n",
    "\n",
    "# relatório detalhado\n",
    "print(\"\\nRelatório de Classificação:\")\n",
    "print(classification_report(y_test, y_pred))"
   ]
  },
  {
   "cell_type": "code",
   "execution_count": 54,
   "id": "09041446",
   "metadata": {},
   "outputs": [
    {
     "data": {
      "image/png": "[encoded data removed]",
      "text/plain": [
       "<Figure size 800x600 with 2 Axes>"
      ]
     },
     "metadata": {},
     "output_type": "display_data"
    }
   ],
   "source": [
    "plt.figure(figsize=(8, 6))\n",
    "sns.heatmap(confusion_matrix(y_test, y_pred), annot=True, fmt='d', cmap='Blues')\n",
    "plt.title('Matriz de Confusão')\n",
    "plt.ylabel('Real')\n",
    "plt.xlabel('Previsão')\n",
    "plt.show()"
   ]
  },
  {
   "cell_type": "code",
   "execution_count": 55,
   "id": "e5db42d3",
   "metadata": {},
   "outputs": [],
   "source": [
    "y_pred_5 = knn_model.predict(X_test_2)"
   ]
  },
  {
   "cell_type": "code",
   "execution_count": 56,
   "id": "fe2d0312",
   "metadata": {},
   "outputs": [],
   "source": [
    "df_resultados = pd.DataFrame({\n",
    "    \"id\": df_test[\"id\"],\n",
    "    \"target\": y_pred_5\n",
    "})\n",
    "\n",
    "# salva em CSV\n",
    "df_resultados.to_csv(\"previsoes5.csv\", index=False)"
   ]
  },
  {
   "cell_type": "markdown",
   "id": "6556603f",
   "metadata": {},
   "source": [
    "### 2.6 GradientBoostingClassifier"
   ]
  },
  {
   "cell_type": "code",
   "execution_count": 57,
   "id": "f88dcbd8",
   "metadata": {},
   "outputs": [
    {
     "name": "stdout",
     "output_type": "stream",
     "text": [
      "Acurácia: 0.97\n",
      "Precisão: 0.97\n",
      "Recall: 0.97\n",
      "F1-score: 0.97\n",
      "\n",
      "Relatório de Classificação:\n",
      "              precision    recall  f1-score   support\n",
      "\n",
      "           0       0.97      0.97      0.97        74\n",
      "           1       0.97      0.97      0.97        70\n",
      "\n",
      "    accuracy                           0.97       144\n",
      "   macro avg       0.97      0.97      0.97       144\n",
      "weighted avg       0.97      0.97      0.97       144\n",
      "\n"
     ]
    }
   ],
   "source": [
    "gb_model = GradientBoostingClassifier(\n",
    "    n_estimators=368,\n",
    "    loss='log_loss',\n",
    "    criterion='squared_error',\n",
    "    random_state=42\n",
    ")\n",
    "\n",
    "# treina o modelo\n",
    "gb_model.fit(X_train, y_train)\n",
    "\n",
    "# previsões\n",
    "y_pred = gb_model.predict(X_test)\n",
    "\n",
    "# métricas\n",
    "acc = accuracy_score(y_test, y_pred)\n",
    "prec = precision_score(y_test, y_pred)\n",
    "rec = recall_score(y_test, y_pred)\n",
    "f1 = f1_score(y_test, y_pred)\n",
    "\n",
    "print(f\"Acurácia: {acc:.2f}\")\n",
    "print(f\"Precisão: {prec:.2f}\")\n",
    "print(f\"Recall: {rec:.2f}\")\n",
    "print(f\"F1-score: {f1:.2f}\")\n",
    "\n",
    "\n",
    "# relatório detalhado\n",
    "print(\"\\nRelatório de Classificação:\")\n",
    "print(classification_report(y_test, y_pred))"
   ]
  },
  {
   "cell_type": "code",
   "execution_count": 58,
   "id": "80b89ec7",
   "metadata": {},
   "outputs": [
    {
     "data": {
      "image/png": "[encoded data removed]",
      "text/plain": [
       "<Figure size 800x600 with 2 Axes>"
      ]
     },
     "metadata": {},
     "output_type": "display_data"
    }
   ],
   "source": [
    "plt.figure(figsize=(8, 6))\n",
    "sns.heatmap(confusion_matrix(y_test, y_pred), annot=True, fmt='d', cmap='Blues')\n",
    "plt.title('Matriz de Confusão')\n",
    "plt.ylabel('Real')\n",
    "plt.xlabel('Previsão')\n",
    "plt.show()"
   ]
  },
  {
   "cell_type": "code",
   "execution_count": 59,
   "id": "0e3db285",
   "metadata": {},
   "outputs": [
    {
     "data": {
      "text/plain": [
       "\"\\nparam_grid = {'n_estimators': np.linspace(50, 500, 100).astype(int), 'criterion': ['friedman_mse', 'squared_error'], 'loss': ['log_loss', 'exponential']}\\ngrid = GridSearchCV(GradientBoostingClassifier(), param_grid, cv=5, verbose=3)\\ngrid.fit(X_train, y_train)\\nprint(grid.best_params_)\\nprint(grid.best_estimator_)\\n\""
      ]
     },
     "execution_count": 59,
     "metadata": {},
     "output_type": "execute_result"
    }
   ],
   "source": [
    "\"\"\"\n",
    "param_grid = {'n_estimators': np.linspace(50, 500, 100).astype(int), 'criterion': ['friedman_mse', 'squared_error'], 'loss': ['log_loss', 'exponential']}\n",
    "grid = GridSearchCV(GradientBoostingClassifier(), param_grid, cv=5, verbose=3)\n",
    "grid.fit(X_train, y_train)\n",
    "print(grid.best_params_)\n",
    "print(grid.best_estimator_)\n",
    "\"\"\""
   ]
  },
  {
   "cell_type": "code",
   "execution_count": 60,
   "id": "220e9f0e",
   "metadata": {},
   "outputs": [],
   "source": [
    "y_pred_6 = gb_model.predict(X_test_2)"
   ]
  },
  {
   "cell_type": "code",
   "execution_count": 61,
   "id": "338bfc05",
   "metadata": {},
   "outputs": [],
   "source": [
    "df_resultados = pd.DataFrame({\n",
    "    \"id\": df_test[\"id\"],\n",
    "    \"target\": y_pred_6\n",
    "})\n",
    "\n",
    "# salva em CSV\n",
    "df_resultados.to_csv(\"previsoes6.csv\", index=False)"
   ]
  },
  {
   "cell_type": "markdown",
   "id": "69e3ef3e",
   "metadata": {},
   "source": [
    "### 2.7. XGBoost"
   ]
  },
  {
   "cell_type": "code",
   "execution_count": 62,
   "id": "c08b126d",
   "metadata": {},
   "outputs": [
    {
     "name": "stdout",
     "output_type": "stream",
     "text": [
      "Acurácia: 0.97\n",
      "Precisão: 0.95\n",
      "Recall: 0.99\n",
      "F1-score: 0.97\n",
      "\n",
      "Relatório de Classificação:\n",
      "              precision    recall  f1-score   support\n",
      "\n",
      "           0       0.99      0.95      0.97        74\n",
      "           1       0.95      0.99      0.97        70\n",
      "\n",
      "    accuracy                           0.97       144\n",
      "   macro avg       0.97      0.97      0.97       144\n",
      "weighted avg       0.97      0.97      0.97       144\n",
      "\n"
     ]
    },
    {
     "name": "stderr",
     "output_type": "stream",
     "text": [
      "c:\\Users\\Inteli\\AppData\\Local\\Programs\\Python\\Python313\\Lib\\site-packages\\xgboost\\training.py:183: UserWarning: [11:14:38] WARNING: C:\\actions-runner\\_work\\xgboost\\xgboost\\src\\learner.cc:738: \n",
      "Parameters: { \"use_label_encoder\" } are not used.\n",
      "\n",
      "  bst.update(dtrain, iteration=i, fobj=obj)\n"
     ]
    }
   ],
   "source": [
    "# cria o modelo XGBoost\n",
    "xgb_model = XGBClassifier(\n",
    "    n_estimators=200,      # número de árvores\n",
    "    max_depth=4,           # profundidade máxima\n",
    "    learning_rate=0.1,     # taxa de aprendizado\n",
    "    subsample=0.8,         # fração de amostras para cada árvore\n",
    "    colsample_bytree=0.8,  # fração de features usadas em cada árvore\n",
    "    eval_metric='logloss', # métrica de avaliação interna\n",
    "    use_label_encoder=False,\n",
    "    random_state=42\n",
    ")\n",
    "\n",
    "# treina o modelo\n",
    "xgb_model.fit(X_train, y_train)\n",
    "\n",
    "# previsões\n",
    "y_pred = xgb_model.predict(X_test)\n",
    "\n",
    "# métricas\n",
    "acc = accuracy_score(y_test, y_pred)\n",
    "prec = precision_score(y_test, y_pred)\n",
    "rec = recall_score(y_test, y_pred)\n",
    "f1 = f1_score(y_test, y_pred)\n",
    "\n",
    "print(f\"Acurácia: {acc:.2f}\")\n",
    "print(f\"Precisão: {prec:.2f}\")\n",
    "print(f\"Recall: {rec:.2f}\")\n",
    "print(f\"F1-score: {f1:.2f}\")\n",
    "\n",
    "# relatório detalhado\n",
    "print(\"\\nRelatório de Classificação:\")\n",
    "print(classification_report(y_test, y_pred))"
   ]
  },
  {
   "cell_type": "code",
   "execution_count": 63,
   "id": "24ac4f2f",
   "metadata": {},
   "outputs": [
    {
     "data": {
      "image/png": "[encoded data removed]",
      "text/plain": [
       "<Figure size 800x600 with 2 Axes>"
      ]
     },
     "metadata": {},
     "output_type": "display_data"
    }
   ],
   "source": [
    "plt.figure(figsize=(8, 6))\n",
    "sns.heatmap(confusion_matrix(y_test, y_pred), annot=True, fmt='d', cmap='Blues')\n",
    "plt.title('Matriz de Confusão')\n",
    "plt.ylabel('Real')\n",
    "plt.xlabel('Previsão')\n",
    "plt.show()"
   ]
  },
  {
   "cell_type": "code",
   "execution_count": 64,
   "id": "a2f972b2",
   "metadata": {},
   "outputs": [],
   "source": [
    "y_pred_7 = xgb_model.predict(X_test_2)"
   ]
  },
  {
   "cell_type": "code",
   "execution_count": 65,
   "id": "2f5af2b7",
   "metadata": {},
   "outputs": [],
   "source": [
    "df_resultados = pd.DataFrame({\n",
    "    \"id\": df_test[\"id\"],\n",
    "    \"target\": y_pred_7\n",
    "})\n",
    "\n",
    "# salva em CSV\n",
    "df_resultados.to_csv(\"previsoes7.csv\", index=False)"
   ]
  },
  {
   "cell_type": "markdown",
   "id": "8869925c",
   "metadata": {},
   "source": [
    "### 2.8. MLPClassifier"
   ]
  },
  {
   "cell_type": "code",
   "execution_count": 66,
   "id": "8164df28",
   "metadata": {},
   "outputs": [
    {
     "name": "stdout",
     "output_type": "stream",
     "text": [
      "Acurácia: 0.95\n",
      "Precisão: 0.94\n",
      "Recall: 0.96\n",
      "F1-score: 0.95\n",
      "\n",
      "Relatório de Classificação:\n",
      "              precision    recall  f1-score   support\n",
      "\n",
      "           0       0.96      0.95      0.95        74\n",
      "           1       0.94      0.96      0.95        70\n",
      "\n",
      "    accuracy                           0.95       144\n",
      "   macro avg       0.95      0.95      0.95       144\n",
      "weighted avg       0.95      0.95      0.95       144\n",
      "\n"
     ]
    }
   ],
   "source": [
    "mlp_model = make_pipeline(\n",
    "    StandardScaler(),\n",
    "    MLPClassifier(\n",
    "        hidden_layer_sizes=(50, 25),  # 2 camadas ocultas: 50 e 25 neurônios\n",
    "        activation='relu',            # função de ativação\n",
    "        solver='adam',                # otimizador\n",
    "        max_iter=500,                 # número máximo de iterações\n",
    "        random_state=42\n",
    "    )\n",
    ")\n",
    "\n",
    "# treina o modelo\n",
    "mlp_model.fit(X_train, y_train)\n",
    "\n",
    "# previsões\n",
    "y_pred = mlp_model.predict(X_test)\n",
    "\n",
    "# métricas\n",
    "acc = accuracy_score(y_test, y_pred)\n",
    "prec = precision_score(y_test, y_pred)\n",
    "rec = recall_score(y_test, y_pred)\n",
    "f1 = f1_score(y_test, y_pred)\n",
    "\n",
    "print(f\"Acurácia: {acc:.2f}\")\n",
    "print(f\"Precisão: {prec:.2f}\")\n",
    "print(f\"Recall: {rec:.2f}\")\n",
    "print(f\"F1-score: {f1:.2f}\")\n",
    "\n",
    "# relatório detalhado\n",
    "print(\"\\nRelatório de Classificação:\")\n",
    "print(classification_report(y_test, y_pred))"
   ]
  },
  {
   "cell_type": "code",
   "execution_count": 67,
   "id": "41b85414",
   "metadata": {},
   "outputs": [
    {
     "data": {
      "image/png": "[encoded data removed]",
      "text/plain": [
       "<Figure size 800x600 with 2 Axes>"
      ]
     },
     "metadata": {},
     "output_type": "display_data"
    }
   ],
   "source": [
    "plt.figure(figsize=(8, 6))\n",
    "sns.heatmap(confusion_matrix(y_test, y_pred), annot=True, fmt='d', cmap='Blues')\n",
    "plt.title('Matriz de Confusão')\n",
    "plt.ylabel('Real')\n",
    "plt.xlabel('Previsão')\n",
    "plt.show()"
   ]
  },
  {
   "cell_type": "code",
   "execution_count": 68,
   "id": "c1344d02",
   "metadata": {},
   "outputs": [],
   "source": [
    "y_pred_8 = mlp_model.predict(X_test_2)"
   ]
  },
  {
   "cell_type": "code",
   "execution_count": 69,
   "id": "6c47973f",
   "metadata": {},
   "outputs": [],
   "source": [
    "df_resultados = pd.DataFrame({\n",
    "    \"id\": df_test[\"id\"],\n",
    "    \"target\": y_pred_8\n",
    "})\n",
    "\n",
    "# salva em CSV\n",
    "df_resultados.to_csv(\"previsoes8.csv\", index=False)"
   ]
  },
  {
   "cell_type": "markdown",
   "id": "c23b8453",
   "metadata": {},
   "source": [
    "### 2.9. Blending de modelos"
   ]
  },
  {
   "cell_type": "code",
   "execution_count": 70,
   "id": "23908145",
   "metadata": {},
   "outputs": [
    {
     "data": {
      "image/png": "[encoded data removed]",
      "text/plain": [
       "<Figure size 800x600 with 2 Axes>"
      ]
     },
     "metadata": {},
     "output_type": "display_data"
    },
    {
     "name": "stdout",
     "output_type": "stream",
     "text": [
      "\n",
      "Acurácia: 0.97\n",
      "Precisão: 0.97\n",
      "Recall: 0.97\n",
      "F1-score: 0.97\n",
      "\n",
      "Relatório de Classificação:\n",
      "              precision    recall  f1-score   support\n",
      "\n",
      "           0       0.97      0.97      0.97        70\n",
      "           1       0.97      0.97      0.97        74\n",
      "\n",
      "    accuracy                           0.97       144\n",
      "   macro avg       0.97      0.97      0.97       144\n",
      "weighted avg       0.97      0.97      0.97       144\n",
      "\n"
     ]
    }
   ],
   "source": [
    "from sklearn.ensemble import StackingClassifier\n",
    "X = df.drop(\"target\", axis=1)\n",
    "y = df[\"target\"]\n",
    "\n",
    "X_train, X_test, y_train, y_test = train_test_split(\n",
    "    X, y, test_size=0.2, random_state=42, stratify=y\n",
    ")\n",
    "\n",
    "estimators = [\n",
    "    (\"rf\", RandomForestClassifier(n_estimators=400, random_state=42)),\n",
    "    (\"gb\", GradientBoostingClassifier(n_estimators=400, learning_rate=0.1, max_depth=3, subsample=0.8, random_state=42)),\n",
    "    (\"lr\", LogisticRegression(max_iter=1000, random_state=42)),\n",
    "    (\"svm\", SVC(kernel=\"rbf\", probability=True, random_state=42)),\n",
    "    (\"knn\", KNeighborsClassifier(n_neighbors=5)),\n",
    "    (\"mlp\", MLPClassifier(hidden_layer_sizes=(64,32), max_iter=500, random_state=42))\n",
    "]\n",
    "\n",
    "# Modelo final (meta-classificador)\n",
    "stacking = StackingClassifier(\n",
    "    estimators=estimators,\n",
    "    final_estimator=LogisticRegression(max_iter=1000, random_state=42),\n",
    "    cv=5,\n",
    "    n_jobs=-1\n",
    ")\n",
    "\n",
    "stacking.fit(X_train, y_train)\n",
    "\n",
    "\n",
    "y_pred = stacking.predict(X_test)\n",
    "\n",
    "cm = confusion_matrix(y_test, y_pred)\n",
    "plt.figure(figsize=(8, 6))\n",
    "sns.heatmap(cm, annot=True, fmt=\"d\", cmap=\"Blues\")\n",
    "plt.title(\"Matriz de Confusão - Stacking Ensemble Completo\")\n",
    "plt.ylabel(\"Real\")\n",
    "plt.xlabel(\"Previsão\")\n",
    "plt.show()\n",
    "\n",
    "acc = accuracy_score(y_test, y_pred)\n",
    "prec = precision_score(y_test, y_pred)\n",
    "rec = recall_score(y_test, y_pred)\n",
    "f1 = f1_score(y_test, y_pred)\n",
    "\n",
    "print(f\"\\nAcurácia: {acc:.2f}\")\n",
    "print(f\"Precisão: {prec:.2f}\")\n",
    "print(f\"Recall: {rec:.2f}\")\n",
    "print(f\"F1-score: {f1:.2f}\")\n",
    "\n",
    "print(\"\\nRelatório de Classificação:\")\n",
    "print(classification_report(y_test, y_pred))\n"
   ]
  },
  {
   "cell_type": "code",
   "execution_count": 71,
   "id": "2f7fdad0",
   "metadata": {},
   "outputs": [],
   "source": [
    "y_pred_9 = stacking.predict(X_test_2)\n",
    "df_resultados = pd.DataFrame({\n",
    "    \"id\": df_test[\"id\"],\n",
    "    \"target\": y_pred_9\n",
    "})\n",
    "\n",
    "# salva em CSV\n",
    "df_resultados.to_csv(\"previsoes11.csv\", index=False)"
   ]
  },
  {
   "cell_type": "markdown",
   "id": "5e5c9553",
   "metadata": {},
   "source": [
    "### 2.10. Outro modelo random forest\n"
   ]
  },
  {
   "cell_type": "code",
   "execution_count": 72,
   "id": "25deaf15",
   "metadata": {},
   "outputs": [
    {
     "data": {
      "image/png": "[encoded data removed]",
      "text/plain": [
       "<Figure size 800x600 with 2 Axes>"
      ]
     },
     "metadata": {},
     "output_type": "display_data"
    },
    {
     "name": "stdout",
     "output_type": "stream",
     "text": [
      "Acurácia: 0.98\n",
      "Precisão: 0.97\n",
      "Revocação (Recall): 0.99\n",
      "f1-score: 0.98\n",
      "\n",
      "Relatório de Classificação:\n",
      "              precision    recall  f1-score   support\n",
      "\n",
      "           0       0.99      0.97      0.98        74\n",
      "           1       0.97      0.99      0.98        70\n",
      "\n",
      "    accuracy                           0.98       144\n",
      "   macro avg       0.98      0.98      0.98       144\n",
      "weighted avg       0.98      0.98      0.98       144\n",
      "\n"
     ]
    }
   ],
   "source": [
    "X = df.drop('target', axis=1)\n",
    "y = df['target']\n",
    "X_train, X_test, y_train, y_test = train_test_split(X, y, test_size=0.2, random_state=42)\n",
    "\n",
    "# cria um modelo random forest\n",
    "rf2_model = RandomForestClassifier(n_estimators=127, random_state=42, criterion='entropy', max_depth=11)\n",
    "\n",
    "# faz um fit do modelo com os dados de treino\n",
    "rf2_model.fit(X_train, y_train)\n",
    "\n",
    "# predições do modelo\n",
    "y_pred = rf2_model.predict(X_test)\n",
    "\n",
    "cm = confusion_matrix(y_test, y_pred)\n",
    "plt.figure(figsize=(8, 6))\n",
    "sns.heatmap(cm, annot=True, fmt='d', cmap='Blues')\n",
    "plt.title('Matriz de Confusão')\n",
    "plt.ylabel('Real')\n",
    "plt.xlabel('Previsão')\n",
    "plt.show()\n",
    "\n",
    "# Avalia o modelo\n",
    "tree_accuracy = accuracy_score(y_test, y_pred)\n",
    "tree_precision = precision_score(y_test, y_pred)  \n",
    "tree_recall = recall_score(y_test, y_pred)\n",
    "tree_f1 = f1_score(y_test, y_pred)\n",
    "print(f'Acurácia: {tree_accuracy:.2f}')\n",
    "print(f'Precisão: {tree_precision:.2f}')\n",
    "print(f'Revocação (Recall): {tree_recall:.2f}')\n",
    "print(f'f1-score: {tree_f1:.2f}')\n",
    "# relatório detalhado\n",
    "print(\"\\nRelatório de Classificação:\")\n",
    "print(classification_report(y_test, y_pred))\n",
    "\n",
    "y_pred_12 = rf2_model.predict(X_test_2)\n",
    "df_resultados = pd.DataFrame({\n",
    "    \"id\": df_test[\"id\"],\n",
    "    \"target\": y_pred_12\n",
    "})\n",
    "\n",
    "# salva em CSV\n",
    "df_resultados.to_csv(\"previsoes12.csv\", index=False)\n"
   ]
  },
  {
   "cell_type": "code",
   "execution_count": 73,
   "id": "5a4310db",
   "metadata": {},
   "outputs": [
    {
     "data": {
      "text/plain": [
       "\"\\nparam_grid = {'max_depth': np.linspace(0, 20, 10).astype(int)}\\ngrid = GridSearchCV(RandomForestClassifier(), param_grid, cv=5, verbose=3)\\ngrid.fit(X_train, y_train)\\nprint(grid.best_params_)\\nprint(grid.best_estimator_)\\n\""
      ]
     },
     "execution_count": 73,
     "metadata": {},
     "output_type": "execute_result"
    }
   ],
   "source": [
    "\"\"\"\n",
    "param_grid = {'max_depth': np.linspace(0, 20, 10).astype(int)}\n",
    "grid = GridSearchCV(RandomForestClassifier(), param_grid, cv=5, verbose=3)\n",
    "grid.fit(X_train, y_train)\n",
    "print(grid.best_params_)\n",
    "print(grid.best_estimator_)\n",
    "\"\"\""
   ]
  }
 ],
 "metadata": {
  "kernelspec": {
   "display_name": "Python 3",
   "language": "python",
   "name": "python3"
  },
  "language_info": {
   "codemirror_mode": {
    "name": "ipython",
    "version": 3
   },
   "file_extension": ".py",
   "mimetype": "text/x-python",
   "name": "python",
   "nbconvert_exporter": "python",
   "pygments_lexer": "ipython3",
   "version": "3.13.5"
  }
 },
 "nbformat": 4,
 "nbformat_minor": 5
}
